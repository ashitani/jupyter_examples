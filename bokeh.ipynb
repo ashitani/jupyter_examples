{
 "cells": [
  {
   "cell_type": "markdown",
   "metadata": {},
   "source": [
    "## Bokeh\n",
    "[Bokeh](http://bokeh.pydata.org/en/latest/) を使ってみる。\n"
   ]
  },
  {
   "cell_type": "code",
   "execution_count": 1,
   "metadata": {
    "collapsed": false
   },
   "outputs": [
    {
     "data": {
      "text/html": [
       "\n",
       "\n",
       "    <script type=\"text/javascript\">\n",
       "      \n",
       "      (function(global) {\n",
       "        function now() {\n",
       "          return new Date();\n",
       "        }\n",
       "      \n",
       "        if (typeof (window._bokeh_onload_callbacks) === \"undefined\") {\n",
       "          window._bokeh_onload_callbacks = [];\n",
       "        }\n",
       "      \n",
       "        function run_callbacks() {\n",
       "          window._bokeh_onload_callbacks.forEach(function(callback) { callback() });\n",
       "          delete window._bokeh_onload_callbacks\n",
       "          console.info(\"Bokeh: all callbacks have finished\");\n",
       "        }\n",
       "      \n",
       "        function load_libs(js_urls, callback) {\n",
       "          window._bokeh_onload_callbacks.push(callback);\n",
       "          if (window._bokeh_is_loading > 0) {\n",
       "            console.log(\"Bokeh: BokehJS is being loaded, scheduling callback at\", now());\n",
       "            return null;\n",
       "          }\n",
       "          if (js_urls == null || js_urls.length === 0) {\n",
       "            run_callbacks();\n",
       "            return null;\n",
       "          }\n",
       "          console.log(\"Bokeh: BokehJS not loaded, scheduling load and callback at\", now());\n",
       "          window._bokeh_is_loading = js_urls.length;\n",
       "          for (var i = 0; i < js_urls.length; i++) {\n",
       "            var url = js_urls[i];\n",
       "            var s = document.createElement('script');\n",
       "            s.src = url;\n",
       "            s.async = false;\n",
       "            s.onreadystatechange = s.onload = function() {\n",
       "              window._bokeh_is_loading--;\n",
       "              if (window._bokeh_is_loading === 0) {\n",
       "                console.log(\"Bokeh: all BokehJS libraries loaded\");\n",
       "                run_callbacks()\n",
       "              }\n",
       "            };\n",
       "            s.onerror = function() {\n",
       "              console.warn(\"failed to load library \" + url);\n",
       "            };\n",
       "            console.log(\"Bokeh: injecting script tag for BokehJS library: \", url);\n",
       "            document.getElementsByTagName(\"head\")[0].appendChild(s);\n",
       "          }\n",
       "        };var js_urls = ['https://cdn.pydata.org/bokeh/release/bokeh-0.11.0.min.js', 'https://cdn.pydata.org/bokeh/release/bokeh-widgets-0.11.0.min.js', 'https://cdn.pydata.org/bokeh/release/bokeh-compiler-0.11.0.min.js'];\n",
       "      \n",
       "        var inline_js = [\n",
       "          function(Bokeh) {\n",
       "            Bokeh.set_log_level(\"info\");\n",
       "          },\n",
       "          function(Bokeh) {\n",
       "            console.log(\"Bokeh: injecting CSS: https://cdn.pydata.org/bokeh/release/bokeh-0.11.0.min.css\");\n",
       "            Bokeh.embed.inject_css(\"https://cdn.pydata.org/bokeh/release/bokeh-0.11.0.min.css\");\n",
       "            console.log(\"Bokeh: injecting CSS: https://cdn.pydata.org/bokeh/release/bokeh-widgets-0.11.0.min.css\");\n",
       "            Bokeh.embed.inject_css(\"https://cdn.pydata.org/bokeh/release/bokeh-widgets-0.11.0.min.css\");\n",
       "          }\n",
       "        ];\n",
       "      \n",
       "        function run_inline_js() {\n",
       "          for (var i = 0; i < inline_js.length; i++) {\n",
       "            inline_js[i](window.Bokeh);\n",
       "          }\n",
       "        }\n",
       "      \n",
       "        if (window._bokeh_is_loading === 0) {\n",
       "          console.log(\"Bokeh: BokehJS loaded, going straight to plotting\");\n",
       "          run_inline_js();\n",
       "        } else {\n",
       "          load_libs(js_urls, function() {\n",
       "            console.log(\"Bokeh: BokehJS plotting callback run at\", now());\n",
       "            run_inline_js();\n",
       "          });\n",
       "        }\n",
       "      }(this));\n",
       "    </script>\n",
       "    <div>\n",
       "        <a href=\"http://bokeh.pydata.org\" target=\"_blank\" class=\"bk-logo bk-logo-small bk-logo-notebook\"></a>\n",
       "        <span>BokehJS successfully loaded.</span>\n",
       "    </div>"
      ]
     },
     "metadata": {},
     "output_type": "display_data"
    }
   ],
   "source": [
    "import bokeh.plotting as bp\n",
    "import numpy as np\n",
    "bp.output_notebook()"
   ]
  },
  {
   "cell_type": "code",
   "execution_count": 2,
   "metadata": {
    "collapsed": false
   },
   "outputs": [
    {
     "data": {
      "text/html": [
       "\n",
       "\n",
       "    <div class=\"plotdiv\" id=\"5f488e78-b00d-4c5a-829c-86fd65a4467a\"></div>\n",
       "<script type=\"text/javascript\">\n",
       "  \n",
       "  (function(global) {\n",
       "    function now() {\n",
       "      return new Date();\n",
       "    }\n",
       "  \n",
       "    if (typeof (window._bokeh_onload_callbacks) === \"undefined\") {\n",
       "      window._bokeh_onload_callbacks = [];\n",
       "    }\n",
       "  \n",
       "    function run_callbacks() {\n",
       "      window._bokeh_onload_callbacks.forEach(function(callback) { callback() });\n",
       "      delete window._bokeh_onload_callbacks\n",
       "      console.info(\"Bokeh: all callbacks have finished\");\n",
       "    }\n",
       "  \n",
       "    function load_libs(js_urls, callback) {\n",
       "      window._bokeh_onload_callbacks.push(callback);\n",
       "      if (window._bokeh_is_loading > 0) {\n",
       "        console.log(\"Bokeh: BokehJS is being loaded, scheduling callback at\", now());\n",
       "        return null;\n",
       "      }\n",
       "      if (js_urls == null || js_urls.length === 0) {\n",
       "        run_callbacks();\n",
       "        return null;\n",
       "      }\n",
       "      console.log(\"Bokeh: BokehJS not loaded, scheduling load and callback at\", now());\n",
       "      window._bokeh_is_loading = js_urls.length;\n",
       "      for (var i = 0; i < js_urls.length; i++) {\n",
       "        var url = js_urls[i];\n",
       "        var s = document.createElement('script');\n",
       "        s.src = url;\n",
       "        s.async = false;\n",
       "        s.onreadystatechange = s.onload = function() {\n",
       "          window._bokeh_is_loading--;\n",
       "          if (window._bokeh_is_loading === 0) {\n",
       "            console.log(\"Bokeh: all BokehJS libraries loaded\");\n",
       "            run_callbacks()\n",
       "          }\n",
       "        };\n",
       "        s.onerror = function() {\n",
       "          console.warn(\"failed to load library \" + url);\n",
       "        };\n",
       "        console.log(\"Bokeh: injecting script tag for BokehJS library: \", url);\n",
       "        document.getElementsByTagName(\"head\")[0].appendChild(s);\n",
       "      }\n",
       "    };var element = document.getElementById(\"5f488e78-b00d-4c5a-829c-86fd65a4467a\");\n",
       "    if (element == null) {\n",
       "      console.log(\"Bokeh: ERROR: autoload.js configured with elementid '5f488e78-b00d-4c5a-829c-86fd65a4467a' but no matching script tag was found. \")\n",
       "      return false;\n",
       "    }var js_urls = [];\n",
       "  \n",
       "    var inline_js = [\n",
       "      function(Bokeh) {\n",
       "        Bokeh.$(function() {\n",
       "            var docs_json = {\"0a29150b-8ee7-4fab-b57e-581196d28719\": {\"version\": \"0.11.0\", \"roots\": {\"root_ids\": [\"97095b0d-961e-4ade-9da3-59ec46c1b25b\"], \"references\": [{\"attributes\": {\"plot\": {\"subtype\": \"Figure\", \"type\": \"Plot\", \"id\": \"97095b0d-961e-4ade-9da3-59ec46c1b25b\"}}, \"type\": \"HelpTool\", \"id\": \"80176f91-be16-4a77-98be-eb432eee8248\"}, {\"attributes\": {\"plot\": {\"subtype\": \"Figure\", \"type\": \"Plot\", \"id\": \"97095b0d-961e-4ade-9da3-59ec46c1b25b\"}}, \"type\": \"PanTool\", \"id\": \"8fffb6af-c69d-4547-ae3e-4412f698e416\"}, {\"attributes\": {\"x_range\": {\"type\": \"DataRange1d\", \"id\": \"38dd2a80-93fc-48dd-9aeb-cd4b582c23c2\"}, \"y_range\": {\"type\": \"DataRange1d\", \"id\": \"83fca08e-6a2e-4c98-888b-00424e3dcfa2\"}, \"renderers\": [{\"type\": \"LinearAxis\", \"id\": \"1435ee01-afc4-4bdb-8f65-06f999e65145\"}, {\"type\": \"Grid\", \"id\": \"804bf838-0b21-42a2-ad83-6917a66eea76\"}, {\"type\": \"LinearAxis\", \"id\": \"2a8c020e-f593-48ee-b5ea-c51c94be6543\"}, {\"type\": \"Grid\", \"id\": \"be5cbc42-762f-4800-8a7c-20deb80cff99\"}, {\"type\": \"BoxAnnotation\", \"id\": \"36d895be-b855-4c23-8747-ee63524581de\"}, {\"type\": \"GlyphRenderer\", \"id\": \"0f11ac98-a6d4-4038-93cd-163cf468eabf\"}], \"plot_width\": 300, \"below\": [{\"type\": \"LinearAxis\", \"id\": \"1435ee01-afc4-4bdb-8f65-06f999e65145\"}], \"tool_events\": {\"type\": \"ToolEvents\", \"id\": \"0ec83c10-e6a1-4d88-8e87-6d44e0ac4e49\"}, \"plot_height\": 300, \"tools\": [{\"type\": \"PanTool\", \"id\": \"8fffb6af-c69d-4547-ae3e-4412f698e416\"}, {\"type\": \"WheelZoomTool\", \"id\": \"55ecea61-8790-4352-add0-4be013780c13\"}, {\"type\": \"BoxZoomTool\", \"id\": \"8269caa6-00ba-43e5-91bb-71cf8225c621\"}, {\"type\": \"PreviewSaveTool\", \"id\": \"0d6adc7e-eabf-4986-976f-ddf8ac85d226\"}, {\"type\": \"ResizeTool\", \"id\": \"58e1f80d-9c02-4149-8103-c0b7e319063b\"}, {\"type\": \"ResetTool\", \"id\": \"934eb102-61ea-4f3a-8961-d4704518e7ff\"}, {\"type\": \"HelpTool\", \"id\": \"80176f91-be16-4a77-98be-eb432eee8248\"}], \"left\": [{\"type\": \"LinearAxis\", \"id\": \"2a8c020e-f593-48ee-b5ea-c51c94be6543\"}]}, \"type\": \"Plot\", \"id\": \"97095b0d-961e-4ade-9da3-59ec46c1b25b\", \"subtype\": \"Figure\"}, {\"attributes\": {\"plot\": {\"subtype\": \"Figure\", \"type\": \"Plot\", \"id\": \"97095b0d-961e-4ade-9da3-59ec46c1b25b\"}}, \"type\": \"WheelZoomTool\", \"id\": \"55ecea61-8790-4352-add0-4be013780c13\"}, {\"attributes\": {\"plot\": {\"subtype\": \"Figure\", \"type\": \"Plot\", \"id\": \"97095b0d-961e-4ade-9da3-59ec46c1b25b\"}, \"ticker\": {\"type\": \"BasicTicker\", \"id\": \"bf2812e6-4e17-4d50-9974-9f2ec8e97259\"}, \"dimension\": 1}, \"type\": \"Grid\", \"id\": \"be5cbc42-762f-4800-8a7c-20deb80cff99\"}, {\"attributes\": {\"callback\": null, \"column_names\": [\"y\", \"x\"], \"data\": {\"y\": [0.0, 0.1008384202581046, 0.2006488565226854, 0.2984138044476411, 0.3931366121483298, 0.48385164043793466, 0.5696341069089657, 0.6496095135057065, 0.7229625614794604, 0.7889454628442574, 0.8468855636029834, 0.8961922010299563, 0.9363627251042848, 0.9669876227092996, 0.9877546923600838, 0.9984522269003895, 0.9989711717233568, 0.9893062365143401, 0.9695559491823237, 0.9399216514301312, 0.9007054462029555, 0.8523071179396753, 0.7952200570230491, 0.7300262299764464, 0.6573902466827755, 0.5780525851065732, 0.4928220425889235, 0.40256749066949654, 0.30820901749007684, 0.2107085480771929, 0.11106003812412972, 0.010279341240534697, -0.09060614703340773, -0.19056796287548539, -0.28858705872043244, -0.38366419180611233, -0.4748301108222395, -0.5611554368152017, -0.6417601376193878, -0.7158224992291902, -0.7825875026542022, -0.8413745208608701, -0.8915842573351402, -0.9327048555318336, -0.9643171169287783, -0.9860987744909296, -0.9978277779792126, -0.9993845576124357, -0.9907532430056771, -0.9720218249588334, -0.9433812584459996, -0.9051235159501367, -0.8576386109880517, -0.8014106221689697, -0.7370127583189134, -0.6651015149788224, -0.586409981847235, -0.5017403693939113, -0.4119558308308628, -0.31797166281061867, -0.22074597455506337, -0.12126992053716677, -0.020557596287260064, 0.08036429967028173, 0.18046693235991093, 0.2787298186775573, 0.37415123057121996, 0.4657584070256517, 0.5526174707464059, 0.6338429484489058, 0.7086067976992182, 0.7761468482835805, 0.8357745720522589, 0.8868821020290788, 0.9289484292312513, 0.9615447140268235, 0.9843386578838236, 0.9970978909438748, 0.9996923408861117, 0.9920955589323228, 0.9743849894755358, 0.9467411805833543, 0.9094459434244626, 0.8628794793817836, 0.8075165041395626, 0.7439214082568444, 0.6727425035622647, 0.5947054140244974, 0.510605678474283, 0.4213006405886069, 0.32770070881349983, 0.23076007532505177, 0.13146698864295842, 0.03083367906114098, -0.07011396040064677, -0.1703468323280965, -0.268843125910384, -0.36459873365588863, -0.45663748763377376, -0.5440211108893699], \"x\": [0.0, 0.10101010101010101, 0.20202020202020202, 0.30303030303030304, 0.40404040404040403, 0.5050505050505051, 0.6060606060606061, 0.7070707070707071, 0.8080808080808081, 0.9090909090909091, 1.0101010101010102, 1.1111111111111112, 1.2121212121212122, 1.3131313131313131, 1.4141414141414141, 1.5151515151515151, 1.6161616161616161, 1.7171717171717171, 1.8181818181818181, 1.9191919191919191, 2.0202020202020203, 2.121212121212121, 2.2222222222222223, 2.323232323232323, 2.4242424242424243, 2.525252525252525, 2.6262626262626263, 2.727272727272727, 2.8282828282828283, 2.929292929292929, 3.0303030303030303, 3.131313131313131, 3.2323232323232323, 3.3333333333333335, 3.4343434343434343, 3.5353535353535355, 3.6363636363636362, 3.7373737373737375, 3.8383838383838382, 3.9393939393939394, 4.040404040404041, 4.141414141414141, 4.242424242424242, 4.343434343434343, 4.444444444444445, 4.545454545454545, 4.646464646464646, 4.747474747474747, 4.848484848484849, 4.94949494949495, 5.05050505050505, 5.151515151515151, 5.252525252525253, 5.353535353535354, 5.454545454545454, 5.555555555555555, 5.656565656565657, 5.757575757575758, 5.858585858585858, 5.959595959595959, 6.0606060606060606, 6.161616161616162, 6.262626262626262, 6.363636363636363, 6.4646464646464645, 6.565656565656566, 6.666666666666667, 6.767676767676767, 6.8686868686868685, 6.96969696969697, 7.070707070707071, 7.171717171717171, 7.2727272727272725, 7.373737373737374, 7.474747474747475, 7.575757575757575, 7.6767676767676765, 7.777777777777778, 7.878787878787879, 7.979797979797979, 8.080808080808081, 8.181818181818182, 8.282828282828282, 8.383838383838384, 8.484848484848484, 8.585858585858587, 8.686868686868687, 8.787878787878787, 8.88888888888889, 8.98989898989899, 9.09090909090909, 9.191919191919192, 9.292929292929292, 9.393939393939394, 9.494949494949495, 9.595959595959595, 9.696969696969697, 9.797979797979798, 9.8989898989899, 10.0]}}, \"type\": \"ColumnDataSource\", \"id\": \"5c7ca6bf-fe6f-4ec4-8382-363c25cdbab1\"}, {\"attributes\": {\"plot\": {\"subtype\": \"Figure\", \"type\": \"Plot\", \"id\": \"97095b0d-961e-4ade-9da3-59ec46c1b25b\"}, \"overlay\": {\"type\": \"BoxAnnotation\", \"id\": \"36d895be-b855-4c23-8747-ee63524581de\"}}, \"type\": \"BoxZoomTool\", \"id\": \"8269caa6-00ba-43e5-91bb-71cf8225c621\"}, {\"attributes\": {}, \"type\": \"BasicTickFormatter\", \"id\": \"747fad18-cd2b-46b6-94dc-b63e285839f2\"}, {\"attributes\": {\"plot\": {\"subtype\": \"Figure\", \"type\": \"Plot\", \"id\": \"97095b0d-961e-4ade-9da3-59ec46c1b25b\"}}, \"type\": \"PreviewSaveTool\", \"id\": \"0d6adc7e-eabf-4986-976f-ddf8ac85d226\"}, {\"attributes\": {\"line_color\": {\"value\": \"#1f77b4\"}, \"line_alpha\": {\"value\": 0.1}, \"y\": {\"field\": \"y\"}, \"x\": {\"field\": \"x\"}}, \"type\": \"Line\", \"id\": \"f5f3c729-263c-4c9d-9596-94cd39c87427\"}, {\"attributes\": {\"plot\": {\"subtype\": \"Figure\", \"type\": \"Plot\", \"id\": \"97095b0d-961e-4ade-9da3-59ec46c1b25b\"}, \"formatter\": {\"type\": \"BasicTickFormatter\", \"id\": \"497e2ef4-36cb-4e82-8871-8e846b1cc4fc\"}, \"ticker\": {\"type\": \"BasicTicker\", \"id\": \"2e810c2c-06f4-40d1-825a-224f5a302daf\"}}, \"type\": \"LinearAxis\", \"id\": \"1435ee01-afc4-4bdb-8f65-06f999e65145\"}, {\"attributes\": {}, \"type\": \"BasicTicker\", \"id\": \"bf2812e6-4e17-4d50-9974-9f2ec8e97259\"}, {\"attributes\": {\"plot\": {\"subtype\": \"Figure\", \"type\": \"Plot\", \"id\": \"97095b0d-961e-4ade-9da3-59ec46c1b25b\"}}, \"type\": \"ResetTool\", \"id\": \"934eb102-61ea-4f3a-8961-d4704518e7ff\"}, {\"attributes\": {}, \"type\": \"ToolEvents\", \"id\": \"0ec83c10-e6a1-4d88-8e87-6d44e0ac4e49\"}, {\"attributes\": {\"line_color\": {\"value\": \"#1f77b4\"}, \"x\": {\"field\": \"x\"}, \"y\": {\"field\": \"y\"}}, \"type\": \"Line\", \"id\": \"e5e8ba65-a0a7-4786-ba96-0a4bd5125e3f\"}, {\"attributes\": {}, \"type\": \"BasicTickFormatter\", \"id\": \"497e2ef4-36cb-4e82-8871-8e846b1cc4fc\"}, {\"attributes\": {\"plot\": {\"subtype\": \"Figure\", \"type\": \"Plot\", \"id\": \"97095b0d-961e-4ade-9da3-59ec46c1b25b\"}}, \"type\": \"ResizeTool\", \"id\": \"58e1f80d-9c02-4149-8103-c0b7e319063b\"}, {\"attributes\": {\"callback\": null}, \"type\": \"DataRange1d\", \"id\": \"83fca08e-6a2e-4c98-888b-00424e3dcfa2\"}, {\"attributes\": {}, \"type\": \"BasicTicker\", \"id\": \"2e810c2c-06f4-40d1-825a-224f5a302daf\"}, {\"attributes\": {\"plot\": {\"subtype\": \"Figure\", \"type\": \"Plot\", \"id\": \"97095b0d-961e-4ade-9da3-59ec46c1b25b\"}, \"formatter\": {\"type\": \"BasicTickFormatter\", \"id\": \"747fad18-cd2b-46b6-94dc-b63e285839f2\"}, \"ticker\": {\"type\": \"BasicTicker\", \"id\": \"bf2812e6-4e17-4d50-9974-9f2ec8e97259\"}}, \"type\": \"LinearAxis\", \"id\": \"2a8c020e-f593-48ee-b5ea-c51c94be6543\"}, {\"attributes\": {\"nonselection_glyph\": {\"type\": \"Line\", \"id\": \"f5f3c729-263c-4c9d-9596-94cd39c87427\"}, \"data_source\": {\"type\": \"ColumnDataSource\", \"id\": \"5c7ca6bf-fe6f-4ec4-8382-363c25cdbab1\"}, \"selection_glyph\": null, \"hover_glyph\": null, \"glyph\": {\"type\": \"Line\", \"id\": \"e5e8ba65-a0a7-4786-ba96-0a4bd5125e3f\"}}, \"type\": \"GlyphRenderer\", \"id\": \"0f11ac98-a6d4-4038-93cd-163cf468eabf\"}, {\"attributes\": {\"plot\": {\"subtype\": \"Figure\", \"type\": \"Plot\", \"id\": \"97095b0d-961e-4ade-9da3-59ec46c1b25b\"}, \"ticker\": {\"type\": \"BasicTicker\", \"id\": \"2e810c2c-06f4-40d1-825a-224f5a302daf\"}}, \"type\": \"Grid\", \"id\": \"804bf838-0b21-42a2-ad83-6917a66eea76\"}, {\"attributes\": {\"line_color\": {\"value\": \"black\"}, \"line_alpha\": {\"value\": 1.0}, \"render_mode\": \"css\", \"bottom_units\": \"screen\", \"level\": \"overlay\", \"top_units\": \"screen\", \"fill_alpha\": {\"value\": 0.5}, \"plot\": null, \"left_units\": \"screen\", \"line_dash\": [4, 4], \"line_width\": {\"value\": 2}, \"right_units\": \"screen\", \"fill_color\": {\"value\": \"lightgrey\"}}, \"type\": \"BoxAnnotation\", \"id\": \"36d895be-b855-4c23-8747-ee63524581de\"}, {\"attributes\": {\"callback\": null}, \"type\": \"DataRange1d\", \"id\": \"38dd2a80-93fc-48dd-9aeb-cd4b582c23c2\"}]}, \"title\": \"Bokeh Application\"}};\n",
       "            var render_items = [{\"notebook_comms_target\": \"6b393dd4-754a-488b-8b3a-ff90db519e36\", \"docid\": \"0a29150b-8ee7-4fab-b57e-581196d28719\", \"elementid\": \"5f488e78-b00d-4c5a-829c-86fd65a4467a\", \"modelid\": \"97095b0d-961e-4ade-9da3-59ec46c1b25b\"}];\n",
       "            \n",
       "            Bokeh.embed.embed_items(docs_json, render_items);\n",
       "        });\n",
       "      },\n",
       "      function(Bokeh) {\n",
       "      }\n",
       "    ];\n",
       "  \n",
       "    function run_inline_js() {\n",
       "      for (var i = 0; i < inline_js.length; i++) {\n",
       "        inline_js[i](window.Bokeh);\n",
       "      }\n",
       "    }\n",
       "  \n",
       "    if (window._bokeh_is_loading === 0) {\n",
       "      console.log(\"Bokeh: BokehJS loaded, going straight to plotting\");\n",
       "      run_inline_js();\n",
       "    } else {\n",
       "      load_libs(js_urls, function() {\n",
       "        console.log(\"Bokeh: BokehJS plotting callback run at\", now());\n",
       "        run_inline_js();\n",
       "      });\n",
       "    }\n",
       "  }(this));\n",
       "</script>"
      ]
     },
     "metadata": {},
     "output_type": "display_data"
    },
    {
     "data": {
      "text/plain": [
       "<bokeh.io._CommsHandle at 0x109bb9490>"
      ]
     },
     "execution_count": 2,
     "metadata": {},
     "output_type": "execute_result"
    }
   ],
   "source": [
    "t=np.linspace(0,10,100)\n",
    "y=np.sin(t)\n",
    "p=bp.figure(plot_width=300,plot_height=300)\n",
    "p.line(t,y)\n",
    "bp.show(p)"
   ]
  },
  {
   "cell_type": "markdown",
   "metadata": {},
   "source": [
    "画像はなんかエラーになる。"
   ]
  },
  {
   "cell_type": "code",
   "execution_count": 3,
   "metadata": {
    "collapsed": false
   },
   "outputs": [
    {
     "ename": "IOError",
     "evalue": "[Errno 2] No such file or directory: 'sample.jpg'",
     "output_type": "error",
     "traceback": [
      "\u001b[0;31m---------------------------------------------------------------------------\u001b[0m",
      "\u001b[0;31mIOError\u001b[0m                                   Traceback (most recent call last)",
      "\u001b[0;32m<ipython-input-3-d7c3adaad0fc>\u001b[0m in \u001b[0;36m<module>\u001b[0;34m()\u001b[0m\n\u001b[1;32m      1\u001b[0m \u001b[0;32mfrom\u001b[0m \u001b[0mPIL\u001b[0m \u001b[0;32mimport\u001b[0m \u001b[0mImage\u001b[0m\u001b[0;34m\u001b[0m\u001b[0m\n\u001b[0;32m----> 2\u001b[0;31m \u001b[0mimg\u001b[0m\u001b[0;34m=\u001b[0m\u001b[0mnp\u001b[0m\u001b[0;34m.\u001b[0m\u001b[0masarray\u001b[0m\u001b[0;34m(\u001b[0m\u001b[0mImage\u001b[0m\u001b[0;34m.\u001b[0m\u001b[0mopen\u001b[0m\u001b[0;34m(\u001b[0m\u001b[0;34m\"sample.jpg\"\u001b[0m\u001b[0;34m)\u001b[0m\u001b[0;34m.\u001b[0m\u001b[0mconvert\u001b[0m\u001b[0;34m(\u001b[0m\u001b[0;34m\"L\"\u001b[0m\u001b[0;34m)\u001b[0m\u001b[0;34m)\u001b[0m\u001b[0;34m\u001b[0m\u001b[0m\n\u001b[0m",
      "\u001b[0;32m/usr/local/lib/python2.7/site-packages/PIL/Image.pyc\u001b[0m in \u001b[0;36mopen\u001b[0;34m(fp, mode)\u001b[0m\n\u001b[1;32m   2247\u001b[0m             \u001b[0mfilename\u001b[0m \u001b[0;34m=\u001b[0m \u001b[0mstr\u001b[0m\u001b[0;34m(\u001b[0m\u001b[0mfp\u001b[0m\u001b[0;34m.\u001b[0m\u001b[0mresolve\u001b[0m\u001b[0;34m(\u001b[0m\u001b[0;34m)\u001b[0m\u001b[0;34m)\u001b[0m\u001b[0;34m\u001b[0m\u001b[0m\n\u001b[1;32m   2248\u001b[0m     \u001b[0;32mif\u001b[0m \u001b[0mfilename\u001b[0m\u001b[0;34m:\u001b[0m\u001b[0;34m\u001b[0m\u001b[0m\n\u001b[0;32m-> 2249\u001b[0;31m         \u001b[0mfp\u001b[0m \u001b[0;34m=\u001b[0m \u001b[0mbuiltins\u001b[0m\u001b[0;34m.\u001b[0m\u001b[0mopen\u001b[0m\u001b[0;34m(\u001b[0m\u001b[0mfilename\u001b[0m\u001b[0;34m,\u001b[0m \u001b[0;34m\"rb\"\u001b[0m\u001b[0;34m)\u001b[0m\u001b[0;34m\u001b[0m\u001b[0m\n\u001b[0m\u001b[1;32m   2250\u001b[0m \u001b[0;34m\u001b[0m\u001b[0m\n\u001b[1;32m   2251\u001b[0m     \u001b[0;32mtry\u001b[0m\u001b[0;34m:\u001b[0m\u001b[0;34m\u001b[0m\u001b[0m\n",
      "\u001b[0;31mIOError\u001b[0m: [Errno 2] No such file or directory: 'sample.jpg'"
     ]
    }
   ],
   "source": [
    "from PIL import Image\n",
    "img=np.asarray(Image.open(\"sample.jpg\").convert(\"L\"))"
   ]
  },
  {
   "cell_type": "code",
   "execution_count": null,
   "metadata": {
    "collapsed": false
   },
   "outputs": [],
   "source": [
    "s=np.shape(img)\n",
    "pi=bk.figure(plot_width=300,plot_height=300)\n",
    "pi.image(img)\n",
    "kb.show()"
   ]
  },
  {
   "cell_type": "markdown",
   "metadata": {},
   "source": [
    "ヒストグラムもないのか。。matplotlibの置き換えは無理だな。。"
   ]
  },
  {
   "cell_type": "code",
   "execution_count": null,
   "metadata": {
    "collapsed": true
   },
   "outputs": [],
   "source": []
  }
 ],
 "metadata": {
  "kernelspec": {
   "display_name": "Python 2",
   "language": "python",
   "name": "python2"
  },
  "language_info": {
   "codemirror_mode": {
    "name": "ipython",
    "version": 2
   },
   "file_extension": ".py",
   "mimetype": "text/x-python",
   "name": "python",
   "nbconvert_exporter": "python",
   "pygments_lexer": "ipython2",
   "version": "2.7.11"
  }
 },
 "nbformat": 4,
 "nbformat_minor": 0
}
