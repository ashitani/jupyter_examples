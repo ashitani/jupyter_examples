{
 "cells": [
  {
   "cell_type": "code",
   "execution_count": 9,
   "metadata": {
    "collapsed": true
   },
   "outputs": [],
   "source": [
    "import svgwrite as sw\n",
    "from IPython import display\n",
    "from IPython.display import SVG\n",
    "import numpy as np\n",
    "import time"
   ]
  },
  {
   "cell_type": "markdown",
   "metadata": {},
   "source": [
    "svgwriteなどで作ったsvgをテキストにしてIPython.display.SVG()で返すと画像として表示してくれる。\n",
    "svgwriteのリファレンスは[こちら](http://pythonhosted.org/svgwrite/)"
   ]
  },
  {
   "cell_type": "code",
   "execution_count": 10,
   "metadata": {
    "collapsed": true
   },
   "outputs": [],
   "source": [
    "def show_svg(theta):\n",
    "    dr=sw.Drawing(\"hoge.svg\",(150,150))\n",
    "    c=(75,75)\n",
    "    dr.add(dr.line(c,(c[0]+50*np.sin(theta),c[1]+50*np.cos(theta)), stroke=sw.utils.rgb(0,0,0),stroke_width=3))\n",
    "    return SVG(dr.tostring())"
   ]
  },
  {
   "cell_type": "code",
   "execution_count": 14,
   "metadata": {
    "collapsed": false
   },
   "outputs": [
    {
     "data": {
      "image/svg+xml": [
       "<svg baseProfile=\"full\" height=\"150\" version=\"1.1\" width=\"150\" xmlns=\"http://www.w3.org/2000/svg\" xmlns:ev=\"http://www.w3.org/2001/xml-events\" xmlns:xlink=\"http://www.w3.org/1999/xlink\"><defs/><line stroke=\"rgb(0,0,0)\" stroke-width=\"3\" x1=\"75\" x2=\"110.355339059\" y1=\"75\" y2=\"110.355339059\"/></svg>"
      ],
      "text/plain": [
       "<IPython.core.display.SVG object>"
      ]
     },
     "execution_count": 14,
     "metadata": {},
     "output_type": "execute_result"
    }
   ],
   "source": [
    "show_svg(np.pi/4)"
   ]
  },
  {
   "cell_type": "markdown",
   "metadata": {},
   "source": [
    "アニメーションしたいときは下記のようにする。"
   ]
  },
  {
   "cell_type": "code",
   "execution_count": 12,
   "metadata": {
    "collapsed": false
   },
   "outputs": [
    {
     "data": {
      "image/svg+xml": [
       "<svg baseProfile=\"full\" height=\"150\" version=\"1.1\" width=\"150\" xmlns=\"http://www.w3.org/2000/svg\" xmlns:ev=\"http://www.w3.org/2001/xml-events\" xmlns:xlink=\"http://www.w3.org/1999/xlink\"><defs/><line stroke=\"rgb(0,0,0)\" stroke-width=\"3\" x1=\"75\" x2=\"75.0\" y1=\"75\" y2=\"25.0\"/></svg>"
      ],
      "text/plain": [
       "<IPython.core.display.SVG object>"
      ]
     },
     "metadata": {},
     "output_type": "display_data"
    }
   ],
   "source": [
    "for i in np.linspace(0,np.pi):\n",
    "    display.display(show_svg(i))\n",
    "    display.clear_output(wait=True)\n",
    "    time.sleep(0.01)"
   ]
  },
  {
   "cell_type": "markdown",
   "metadata": {},
   "source": [
    "[アニメーション用のモジュール](http://pythonhosted.org/svgwrite/classes/animate.html)もあるようだが未チェック。そちらをつかえば貼り付けも容易なのだろうなあ。"
   ]
  },
  {
   "cell_type": "code",
   "execution_count": 19,
   "metadata": {
    "collapsed": true
   },
   "outputs": [],
   "source": [
    "def make_anim():\n",
    "    dr=sw.Drawing(\"hoge.svg\",(150,150))\n",
    "    c=(75,75)\n",
    "    theta=0\n",
    "    r=dr.add(dr.line(c,(c[0]+50*np.sin(theta),c[1]+50*np.cos(theta)), stroke=sw.utils.rgb(0,0,0),stroke_width=3))\n",
    "    print \n",
    "    #sw.animate.Set(href=None, **extra)¶"
   ]
  },
  {
   "cell_type": "code",
   "execution_count": 20,
   "metadata": {
    "collapsed": false
   },
   "outputs": [
    {
     "name": "stdout",
     "output_type": "stream",
     "text": [
      "<svgwrite.shapes.Line object at 0x102f85a90>\n"
     ]
    }
   ],
   "source": [
    "make_anim()"
   ]
  },
  {
   "cell_type": "code",
   "execution_count": null,
   "metadata": {
    "collapsed": true
   },
   "outputs": [],
   "source": []
  }
 ],
 "metadata": {
  "kernelspec": {
   "display_name": "Python 2",
   "language": "python",
   "name": "python2"
  },
  "language_info": {
   "codemirror_mode": {
    "name": "ipython",
    "version": 2
   },
   "file_extension": ".py",
   "mimetype": "text/x-python",
   "name": "python",
   "nbconvert_exporter": "python",
   "pygments_lexer": "ipython2",
   "version": "2.7.11"
  }
 },
 "nbformat": 4,
 "nbformat_minor": 0
}
