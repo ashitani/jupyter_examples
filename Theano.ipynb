{
 "cells": [
  {
   "cell_type": "code",
   "execution_count": 1,
   "metadata": {
    "collapsed": false
   },
   "outputs": [],
   "source": [
    "import numpy as np\n",
    "import theano\n",
    "import theano.tensor as T\n",
    "from theano import function as F\n",
    "import theano.tensor.nnet as NN\n",
    "from matplotlib import pyplot as plt\n",
    "\n",
    "%matplotlib inline"
   ]
  },
  {
   "cell_type": "markdown",
   "metadata": {},
   "source": [
    "\"Couldn't import dot_parser, loading of dot files will not be possible.\"と出るのはpydotがpyparse1.x系を\n",
    "期待しているからだそうで、対処法は[こちら](http://stackoverflow.com/questions/15951748/pydot-and-graphviz-error-couldnt-import-dot-parser-loading-of-dot-files-will)。"
   ]
  },
  {
   "cell_type": "markdown",
   "metadata": {},
   "source": [
    "テンソルのシンボルを作成して、シンボル同士で演算してグラフをつくり、グラフを関数にコンパイル、という流れだそうだ。"
   ]
  },
  {
   "cell_type": "code",
   "execution_count": 2,
   "metadata": {
    "collapsed": true
   },
   "outputs": [],
   "source": [
    "x=T.dscalar(\"x\")\n",
    "y=T.dscalar(\"y\")\n",
    "z= x+y\n",
    "f=F([x,y],z)"
   ]
  },
  {
   "cell_type": "code",
   "execution_count": 3,
   "metadata": {
    "collapsed": false
   },
   "outputs": [
    {
     "data": {
      "text/plain": [
       "array(5.0)"
      ]
     },
     "execution_count": 3,
     "metadata": {},
     "output_type": "execute_result"
    }
   ],
   "source": [
    "f(2,3)"
   ]
  },
  {
   "cell_type": "markdown",
   "metadata": {},
   "source": [
    "演算グラフ表示。[こちら](http://sinhrks.hatenablog.com/entry/2015/04/25/233025)参考。"
   ]
  },
  {
   "cell_type": "code",
   "execution_count": 4,
   "metadata": {
    "collapsed": true
   },
   "outputs": [],
   "source": [
    "import IPython.display as display\n",
    "\n",
    "def plot_graph(obj):\n",
    "    svg = theano.printing.pydotprint(obj, return_image=True, format='svg')\n",
    "    return display.SVG(svg)"
   ]
  },
  {
   "cell_type": "code",
   "execution_count": 5,
   "metadata": {
    "collapsed": false
   },
   "outputs": [
    {
     "data": {
      "image/svg+xml": [
       "<svg height=\"203pt\" viewBox=\"0.00 0.00 462.01 203.00\" width=\"462pt\" xmlns=\"http://www.w3.org/2000/svg\" xmlns:xlink=\"http://www.w3.org/1999/xlink\">\n",
       "<g class=\"graph\" id=\"graph0\" transform=\"scale(1 1) rotate(0) translate(4 199)\">\n",
       "<title>G</title>\n",
       "<polygon fill=\"white\" points=\"-4,4 -4,-199 458.009,-199 458.009,4 -4,4\" stroke=\"none\"/>\n",
       "<!-- 4473832464 -->\n",
       "<g class=\"node\" id=\"node1\"><title>4473832464</title>\n",
       "<ellipse cx=\"227.004\" cy=\"-91\" fill=\"#ffaabb\" rx=\"107.494\" ry=\"18\" stroke=\"black\"/>\n",
       "<text font-family=\"Times,serif\" font-size=\"14.00\" text-anchor=\"middle\" x=\"227.004\" y=\"-86.8\">Elemwise{add,no_inplace}</text>\n",
       "</g>\n",
       "<!-- 4473832528 -->\n",
       "<g class=\"node\" id=\"node4\"><title>4473832528</title>\n",
       "<polygon fill=\"blue\" points=\"311.547,-36 142.462,-36 142.462,-0 311.547,-0 311.547,-36\" stroke=\"black\"/>\n",
       "<text font-family=\"Times,serif\" font-size=\"14.00\" text-anchor=\"middle\" x=\"227.004\" y=\"-13.8\">TensorType(float64, scalar)</text>\n",
       "</g>\n",
       "<!-- 4473832464&#45;&gt;4473832528 -->\n",
       "<g class=\"edge\" id=\"edge3\"><title>4473832464-&gt;4473832528</title>\n",
       "<path d=\"M227.004,-72.8129C227.004,-64.7895 227.004,-55.0475 227.004,-46.0691\" fill=\"none\" stroke=\"black\"/>\n",
       "<polygon fill=\"black\" points=\"230.504,-46.0288 227.004,-36.0288 223.504,-46.0289 230.504,-46.0288\" stroke=\"black\"/>\n",
       "</g>\n",
       "<!-- 4473832336 -->\n",
       "<g class=\"node\" id=\"node2\"><title>4473832336</title>\n",
       "<polygon fill=\"green\" points=\"218.013,-195 -0.00439471,-195 -0.00439471,-159 218.013,-159 218.013,-195\" stroke=\"black\"/>\n",
       "<text font-family=\"Times,serif\" font-size=\"14.00\" text-anchor=\"middle\" x=\"109.004\" y=\"-172.8\">name=x TensorType(float64, scalar)</text>\n",
       "</g>\n",
       "<!-- 4473832336&#45;&gt;4473832464 -->\n",
       "<g class=\"edge\" id=\"edge1\"><title>4473832336-&gt;4473832464</title>\n",
       "<path d=\"M133.168,-158.799C151.141,-146.004 175.833,-128.427 195.377,-114.514\" fill=\"none\" stroke=\"black\"/>\n",
       "<polygon fill=\"black\" points=\"197.56,-117.257 203.677,-108.606 193.501,-111.554 197.56,-117.257\" stroke=\"black\"/>\n",
       "<text font-family=\"Times,serif\" font-size=\"14.00\" text-anchor=\"middle\" x=\"179.504\" y=\"-129.8\">0</text>\n",
       "</g>\n",
       "<!-- 4473832400 -->\n",
       "<g class=\"node\" id=\"node3\"><title>4473832400</title>\n",
       "<polygon fill=\"green\" points=\"454.013,-195 235.996,-195 235.996,-159 454.013,-159 454.013,-195\" stroke=\"black\"/>\n",
       "<text font-family=\"Times,serif\" font-size=\"14.00\" text-anchor=\"middle\" x=\"345.004\" y=\"-172.8\">name=y TensorType(float64, scalar)</text>\n",
       "</g>\n",
       "<!-- 4473832400&#45;&gt;4473832464 -->\n",
       "<g class=\"edge\" id=\"edge2\"><title>4473832400-&gt;4473832464</title>\n",
       "<path d=\"M320.841,-158.799C302.868,-146.004 278.175,-128.427 258.631,-114.514\" fill=\"none\" stroke=\"black\"/>\n",
       "<polygon fill=\"black\" points=\"260.508,-111.554 250.332,-108.606 256.449,-117.257 260.508,-111.554\" stroke=\"black\"/>\n",
       "<text font-family=\"Times,serif\" font-size=\"14.00\" text-anchor=\"middle\" x=\"297.504\" y=\"-129.8\">1</text>\n",
       "</g>\n",
       "</g>\n",
       "</svg>"
      ],
      "text/plain": [
       "<IPython.core.display.SVG object>"
      ]
     },
     "execution_count": 5,
     "metadata": {},
     "output_type": "execute_result"
    }
   ],
   "source": [
    "plot_graph(f)"
   ]
  },
  {
   "cell_type": "markdown",
   "metadata": {},
   "source": [
    "グラフ時点で微分が行える。"
   ]
  },
  {
   "cell_type": "code",
   "execution_count": 6,
   "metadata": {
    "collapsed": false
   },
   "outputs": [],
   "source": [
    "y=x**2\n",
    "dy = F([x],T.grad(y, x))"
   ]
  },
  {
   "cell_type": "code",
   "execution_count": 7,
   "metadata": {
    "collapsed": false
   },
   "outputs": [
    {
     "data": {
      "text/plain": [
       "array(4.0)"
      ]
     },
     "execution_count": 7,
     "metadata": {},
     "output_type": "execute_result"
    }
   ],
   "source": [
    "dy(2)"
   ]
  },
  {
   "cell_type": "markdown",
   "metadata": {},
   "source": [
    "MNISTやってみる。データはtensorflowのexampleから取得。"
   ]
  },
  {
   "cell_type": "code",
   "execution_count": 8,
   "metadata": {
    "collapsed": false
   },
   "outputs": [
    {
     "name": "stdout",
     "output_type": "stream",
     "text": [
      "Extracting MNIST_data/train-images-idx3-ubyte.gz\n",
      "Extracting MNIST_data/train-labels-idx1-ubyte.gz\n",
      "Extracting MNIST_data/t10k-images-idx3-ubyte.gz\n",
      "Extracting MNIST_data/t10k-labels-idx1-ubyte.gz\n"
     ]
    }
   ],
   "source": [
    "from tensorflow.examples.tutorials.mnist import input_data\n",
    "mnist = input_data.read_data_sets('MNIST_data', one_hot=True)"
   ]
  },
  {
   "cell_type": "code",
   "execution_count": 9,
   "metadata": {
    "collapsed": false
   },
   "outputs": [
    {
     "name": "stdout",
     "output_type": "stream",
     "text": [
      "(55000, 784)\n",
      "(55000, 10)\n"
     ]
    }
   ],
   "source": [
    "print np.shape(mnist.train.images)\n",
    "print np.shape(mnist.train.labels)"
   ]
  },
  {
   "cell_type": "code",
   "execution_count": 10,
   "metadata": {
    "collapsed": true
   },
   "outputs": [],
   "source": [
    "MAX_DATA=55000\n",
    "def get_batch(n):\n",
    "    ni=np.random.randint(0,MAX_DATA,n)\n",
    "    x = mnist.train.images[ni] \n",
    "    y = mnist.train.labels[ni]\n",
    "    return x,y"
   ]
  },
  {
   "cell_type": "markdown",
   "metadata": {},
   "source": [
    "なるべくChainerっぽく記述してみる。\n",
    "係数の初期化はChainerのマネをした。\n",
    "わかりにくいのはdimshuffleの下り。バイアスを足す時点で、ベクタを４階テンソルに置き換え、\n",
    "ベクタの方向を２階目に割り振る、というのがdimshuffle('x',0,'x','x')らしい。\n",
    "reshape(batch_num,-1,ksize,ksize)というかんじか。"
   ]
  },
  {
   "cell_type": "code",
   "execution_count": 24,
   "metadata": {
    "collapsed": false
   },
   "outputs": [],
   "source": [
    "from theano.tensor.signal import pool\n",
    "from theano import pp\n",
    "\n",
    "def CRP(input,in_dim,out_dim,name=\"\"):\n",
    "    '''\n",
    "    Conv2d, Relu, and maxPool_2d\n",
    "    '''\n",
    "    ksize=3\n",
    "    initialW = np.random.normal(0, np.sqrt(1.0/(in_dim* ksize**2)), (out_dim,in_dim, ksize, ksize))    \n",
    "    W = theano.shared(initialW,name=name+\"_W\")\n",
    "    b = theano.shared(np.zeros((out_dim)), name=name+\"_b\")\n",
    "    h1 = NN.conv2d(input,W,border_mode=\"half\")+b.dimshuffle('x', 0,'x','x')\n",
    "    h2 = NN.relu(h1)\n",
    "    h3 = pool.pool_2d(h2, (2,2),ignore_border=False)\n",
    "    return h3, [W,b]\n",
    "\n",
    "def LIN(x,in_dim, out_dim , name=\"\"):\n",
    "    '''\n",
    "    LINear function,  y=xW+b\n",
    "    '''\n",
    "    initialW = np.random.normal(0, np.sqrt(1. / (in_dim)), (in_dim, out_dim))    \n",
    "    W = theano.shared(initialW,name=name+\"_W\")\n",
    "    b = theano.shared(np.zeros((out_dim)), name=name+\"_b\")\n",
    "    h = theano.dot(x,W)+ b.dimshuffle('x', 0)\n",
    "    return h,[W,b]\n",
    "\n",
    "class myLink():\n",
    "    def __init__(self, learning_rate=0.01):\n",
    "        x = T.tensor4(\"x\")  # Input images:  batch x channel x width x height\n",
    "        y = T.lvector(\"y\")   # Labels:              batch x label\n",
    "\n",
    "        # Network definition\n",
    "        h1,p1 = CRP(x,1,16,\"C1\")                    #  outputs batch_num x 16ch x (14x14)\n",
    "        h2,p2 = CRP(h1,16,64,  \"C2\")             #  outputs batch_num x 64ch x (7x7)\n",
    "        h3,p3 = CRP(h2,64,256,\"C3\")             #  outputs batch_num x 256ch x (4x4)\n",
    "        f3 = T.flatten(h3,2)                               # outputs batch_num x (256*4*4)\n",
    "        h4,p4 = LIN(f3,256*4*4,512, \"L1\")  #  outputs batch_num x 512\n",
    "        h5,p5 = LIN(h4,512,10, \"L2\")             #  outputs batch_num x 10\n",
    "        y_pred = NN.softmax(h5)\n",
    "\n",
    "        # cost and gradients\n",
    "        cost = T.mean(NN.categorical_crossentropy(y_pred, y))        \n",
    "        params=p1+p2+p3+p4+p5\n",
    "        grads = T.grad(cost, params)   \n",
    "        \n",
    "        # SGD\n",
    "        updates = [\n",
    "            (param_i, param_i - learning_rate * grad_i)\n",
    "            for param_i, grad_i in zip(params, grads)\n",
    "        ]\n",
    "        \n",
    "        # define & compile update/predict function\n",
    "        self.update_func =  theano.function([x,y], cost,updates=updates)\n",
    "        self.pred_func =  theano.function([x], y_pred)        \n",
    "\n",
    "    def show(self):\n",
    "        plot_graph(self.cost)\n",
    "\n",
    "    def update(self,batch_x,batch_y):\n",
    "        return self.update_func( batch_x,batch_y)\n",
    "        \n",
    "    def pred(self,x):\n",
    "        return self.pred_func(x)\n"
   ]
  },
  {
   "cell_type": "markdown",
   "metadata": {},
   "source": [
    "学習ループ。"
   ]
  },
  {
   "cell_type": "code",
   "execution_count": 33,
   "metadata": {
    "collapsed": false
   },
   "outputs": [
    {
     "name": "stdout",
     "output_type": "stream",
     "text": [
      "2.15261916086\n",
      "1.99772690701\n",
      "1.87746025553\n",
      "1.74132082725\n",
      "1.58069936618\n",
      "1.42255544395\n",
      "1.15643615209\n",
      "0.992644069104\n",
      "0.98299866398\n",
      "0.875299245936\n",
      "1.02978199035\n",
      "0.785021946601\n",
      "0.68131798228\n",
      "0.699897691654\n",
      "0.639099696439\n",
      "0.731150598192\n",
      "0.570754876758\n",
      "0.517859172418\n",
      "0.491013793568\n",
      "0.656763339547\n"
     ]
    }
   ],
   "source": [
    "link=myLink(0.01) # SGD learning rate=0.01\n",
    "\n",
    "batch_num=100\n",
    "i=0\n",
    "while(i<200):\n",
    "    i+=1\n",
    "    img,label=get_batch(batch_num)\n",
    "    img=img.reshape((batch_num,1,28,28))\n",
    "    label=np.argmax(label,axis=1).astype(np.int).reshape((batch_num))\n",
    "    cost = link.update(img,label )\n",
    "    if i%10==0:\n",
    "        print cost"
   ]
  },
  {
   "cell_type": "code",
   "execution_count": 34,
   "metadata": {
    "collapsed": false,
    "scrolled": true
   },
   "outputs": [
    {
     "data": {
      "text/plain": [
       "7"
      ]
     },
     "execution_count": 34,
     "metadata": {},
     "output_type": "execute_result"
    },
    {
     "data": {
      "image/png": "[encoded data removed]",
      "text/plain": [
       "<matplotlib.figure.Figure at 0x1111407d0>"
      ]
     },
     "metadata": {},
     "output_type": "display_data"
    }
   ],
   "source": [
    "plt.imshow(mnist.test.images[0].reshape(28,28))\n",
    "np.argmax(link.pred(mnist.test.images[0].reshape(1,1,28,28)))"
   ]
  },
  {
   "cell_type": "markdown",
   "metadata": {},
   "source": [
    "ほかのフレームワークと　の違いはいろいろあるけど、印象的なのは、\n",
    "- コンパイル済の関数はnp.array()を直接受けられる。\n",
    "- オプティマイザは関数とセットにしてコンパイルする。\n",
    "というあたりか。自前ですべて記述するひと"
   ]
  }
 ],
 "metadata": {
  "kernelspec": {
   "display_name": "Python 2",
   "language": "python",
   "name": "python2"
  },
  "language_info": {
   "codemirror_mode": {
    "name": "ipython",
    "version": 2
   },
   "file_extension": ".py",
   "mimetype": "text/x-python",
   "name": "python",
   "nbconvert_exporter": "python",
   "pygments_lexer": "ipython2",
   "version": "2.7.11"
  }
 },
 "nbformat": 4,
 "nbformat_minor": 0
}
