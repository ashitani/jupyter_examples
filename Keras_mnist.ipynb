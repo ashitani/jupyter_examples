{
 "cells": [
  {
   "cell_type": "code",
   "execution_count": 1,
   "metadata": {
    "collapsed": false
   },
   "outputs": [
    {
     "name": "stderr",
     "output_type": "stream",
     "text": [
      "Using Theano backend.\n"
     ]
    }
   ],
   "source": [
    "import numpy as np\n",
    "from matplotlib import pyplot as plt\n",
    "%matplotlib inline\n",
    "\n",
    "from keras.models import Sequential\n",
    "from keras.layers import Dense, Activation, Flatten, Reshape,Dropout\n",
    "from keras.layers.convolutional import Convolution2D\n",
    "from keras.layers.pooling import MaxPooling2D\n",
    "from keras.utils import np_utils\n"
   ]
  },
  {
   "cell_type": "code",
   "execution_count": 2,
   "metadata": {
    "collapsed": false
   },
   "outputs": [],
   "source": [
    "from keras.datasets import mnist\n",
    "\n",
    "(X_train, y_train), (X_test, y_test) = mnist.load_data()\n",
    "# X_trainは、バッチ、垂直、水平、のndarray"
   ]
  },
  {
   "cell_type": "code",
   "execution_count": 3,
   "metadata": {
    "collapsed": false
   },
   "outputs": [],
   "source": [
    "MAX_NUM=1000\n",
    "X_train = X_train[:MAX_NUM,:,:].astype(np.float)/255.0\n",
    "X_train = X_train.reshape(MAX_NUM,1,28,28)\n",
    "y_train = y_train[:MAX_NUM]\n",
    "y_train = np_utils.to_categorical(y_train, 10) # label からvectorに"
   ]
  },
  {
   "cell_type": "code",
   "execution_count": 5,
   "metadata": {
    "collapsed": false
   },
   "outputs": [],
   "source": [
    "model = Sequential()\n",
    "model.add(Convolution2D(16, 3, 3,border_mode='same',input_shape=(1,28,28)))\n",
    "model.add(Activation(\"relu\"))\n",
    "model.add(MaxPooling2D(pool_size=(2,2)))\n",
    "model.add(Convolution2D(64, 3, 3,border_mode='same'))\n",
    "model.add(Activation(\"relu\"))\n",
    "model.add(MaxPooling2D(pool_size=(2,2)))\n",
    "model.add(Convolution2D(256, 3, 3, border_mode='same'))\n",
    "model.add(Activation(\"relu\"))\n",
    "model.add(MaxPooling2D(pool_size=(2,2)))\n",
    "model.add(Flatten())\n",
    "model.add(Dense(256))\n",
    "model.add(Dropout(0.5))\n",
    "model.add(Dense(10))\n",
    "model.add(Activation('softmax'))"
   ]
  },
  {
   "cell_type": "code",
   "execution_count": 6,
   "metadata": {
    "collapsed": true
   },
   "outputs": [],
   "source": [
    "model.compile(optimizer='adam',\n",
    "              loss='categorical_crossentropy',\n",
    "              metrics=['accuracy'])"
   ]
  },
  {
   "cell_type": "code",
   "execution_count": 7,
   "metadata": {
    "collapsed": false
   },
   "outputs": [
    {
     "name": "stdout",
     "output_type": "stream",
     "text": [
      "Epoch 1/20\n",
      "1000/1000 [==============================] - 2s - loss: 2.0612 - acc: 0.3410     \n",
      "Epoch 2/20\n",
      "1000/1000 [==============================] - 2s - loss: 0.9694 - acc: 0.7250     \n",
      "Epoch 3/20\n",
      "1000/1000 [==============================] - 2s - loss: 0.4425 - acc: 0.8610     \n",
      "Epoch 4/20\n",
      "1000/1000 [==============================] - 2s - loss: 0.2722 - acc: 0.9210     \n",
      "Epoch 5/20\n",
      "1000/1000 [==============================] - 2s - loss: 0.2023 - acc: 0.9380     \n",
      "Epoch 6/20\n",
      "1000/1000 [==============================] - 2s - loss: 0.1415 - acc: 0.9540     \n",
      "Epoch 7/20\n",
      "1000/1000 [==============================] - 2s - loss: 0.1151 - acc: 0.9650     \n",
      "Epoch 8/20\n",
      "1000/1000 [==============================] - 2s - loss: 0.1064 - acc: 0.9620     \n",
      "Epoch 9/20\n",
      "1000/1000 [==============================] - 2s - loss: 0.0616 - acc: 0.9840     \n",
      "Epoch 10/20\n",
      "1000/1000 [==============================] - 2s - loss: 0.0453 - acc: 0.9900     \n",
      "Epoch 11/20\n",
      "1000/1000 [==============================] - 2s - loss: 0.0479 - acc: 0.9860     \n",
      "Epoch 12/20\n",
      "1000/1000 [==============================] - 2s - loss: 0.0255 - acc: 0.9960     \n",
      "Epoch 13/20\n",
      "1000/1000 [==============================] - 2s - loss: 0.0204 - acc: 0.9980     \n",
      "Epoch 14/20\n",
      "1000/1000 [==============================] - 2s - loss: 0.0203 - acc: 0.9940     \n",
      "Epoch 15/20\n",
      "1000/1000 [==============================] - 2s - loss: 0.0137 - acc: 0.9980     \n",
      "Epoch 16/20\n",
      "1000/1000 [==============================] - 2s - loss: 0.0121 - acc: 0.9970     \n",
      "Epoch 17/20\n",
      "1000/1000 [==============================] - 2s - loss: 0.0156 - acc: 0.9990     \n",
      "Epoch 18/20\n",
      "1000/1000 [==============================] - 2s - loss: 0.0141 - acc: 0.9960     \n",
      "Epoch 19/20\n",
      "1000/1000 [==============================] - 2s - loss: 0.0165 - acc: 0.9950     \n",
      "Epoch 20/20\n",
      "1000/1000 [==============================] - 2s - loss: 0.0185 - acc: 0.9940     \n"
     ]
    },
    {
     "data": {
      "text/plain": [
       "<keras.callbacks.History at 0x107c07550>"
      ]
     },
     "execution_count": 7,
     "metadata": {},
     "output_type": "execute_result"
    }
   ],
   "source": [
    "model.fit(X_train,y_train, nb_epoch=20, batch_size=100,verbose=1)\n"
   ]
  },
  {
   "cell_type": "code",
   "execution_count": 12,
   "metadata": {
    "collapsed": false
   },
   "outputs": [
    {
     "data": {
      "text/plain": [
       "7"
      ]
     },
     "execution_count": 12,
     "metadata": {},
     "output_type": "execute_result"
    }
   ],
   "source": [
    "np.argmax(model.predict(X_test[0,:,:].astype(np.float32).reshape(1,1,28,28)/255.0))"
   ]
  },
  {
   "cell_type": "code",
   "execution_count": 13,
   "metadata": {
    "collapsed": false
   },
   "outputs": [
    {
     "data": {
      "text/plain": [
       "7"
      ]
     },
     "execution_count": 13,
     "metadata": {},
     "output_type": "execute_result"
    }
   ],
   "source": [
    "y_test[0]"
   ]
  }
 ],
 "metadata": {
  "kernelspec": {
   "display_name": "Python 2",
   "language": "python",
   "name": "python2"
  },
  "language_info": {
   "codemirror_mode": {
    "name": "ipython",
    "version": 2
   },
   "file_extension": ".py",
   "mimetype": "text/x-python",
   "name": "python",
   "nbconvert_exporter": "python",
   "pygments_lexer": "ipython2",
   "version": "2.7.11"
  }
 },
 "nbformat": 4,
 "nbformat_minor": 1
}
