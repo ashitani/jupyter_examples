{
 "cells": [
  {
   "cell_type": "markdown",
   "metadata": {},
   "source": [
    "# chainerの練習\n",
    "\n",
    "$y=e^x$ という関数をいわゆるディープラーニングで学習してみましょう。\n",
    "\n",
    "まず必要なモジュール類をインポートします。"
   ]
  },
  {
   "cell_type": "code",
   "execution_count": 1,
   "metadata": {
    "collapsed": true
   },
   "outputs": [],
   "source": [
    "import numpy as np\n",
    "import chainer\n",
    "from chainer import cuda, Function, gradient_check, Variable, optimizers, serializers, utils\n",
    "from chainer import Link, Chain, ChainList\n",
    "import chainer.functions as F\n",
    "import chainer.links as L\n",
    "\n",
    "from matplotlib import pyplot as plt\n",
    "%matplotlib inline"
   ]
  },
  {
   "cell_type": "markdown",
   "metadata": {},
   "source": [
    "## 教師データの作成\n",
    "\n",
    "まず教師データを出力する関数を作ります。バッチ学習という手法を使うので、\n",
    "$n$ 個の問題・解答のセットを返す関数があると便利です。今回は0から1.0までの浮動小数$x$に対して$e^x$が期待値です。"
   ]
  },
  {
   "cell_type": "code",
   "execution_count": 2,
   "metadata": {
    "collapsed": true
   },
   "outputs": [],
   "source": [
    "def get_batch(n):\n",
    "    x=np.random.random(n)\n",
    "    y= np.exp(x)\n",
    "    return x,y"
   ]
  },
  {
   "cell_type": "code",
   "execution_count": 3,
   "metadata": {
    "collapsed": false
   },
   "outputs": [
    {
     "name": "stdout",
     "output_type": "stream",
     "text": [
      "(array([ 0.61416009,  0.67483916]), array([ 1.8481037,  1.9637171]))\n"
     ]
    }
   ],
   "source": [
    "print get_batch(2)"
   ]
  },
  {
   "cell_type": "markdown",
   "metadata": {},
   "source": [
    "## ニューラルネットの設計\n",
    "\n",
    "次に、ネットを作ります。\n",
    "\n",
    "$y=e^x$ は非線形関数なので、線形関数だけでの近似では十分な精度が得られません。\n",
    "入力を$x$としたとき、$y=Wx+b$のようなものを線形関数と呼びます。$W$を重み、$b$をバイアスと呼びますが、どちらもただの行列です。$x$に対する一次式で、つまり直線ですね。\n",
    "\n",
    "さて、この線形演算に対して、\n",
    "非線形関数による活性化層が入るだけでもうニューラルネットと呼んでいいらしいです。\n",
    "それを多層にしたものがディープニューラルネット、いわゆるディープラーニングで使われる非線形関数です。どれぐらい深ければディープと呼んでいいのか不明ですが、今回は3段ぐらいにしてみます。\n",
    "\n",
    "一般的な分類問題だとreluという非線形関数が非常によく使われますが、\n",
    "reluだと微分消失してしまうので今回はleaky_reluを使います（この問題の場合はreluだと収束しませんでした）。\n",
    "\n",
    "というわけで、構成は下記のようにしてみます。L1,L2,L3はそれぞれ線形関数で、その後にleaky_reluという関数が入っています。入力が負なら0.2をかける、というだけの関数です。いったん中間層の次元を16、32と増やしたあとに、最後に1次元に落としています。"
   ]
  },
  {
   "cell_type": "markdown",
   "metadata": {},
   "source": [
    "<img src=\"chainer_00.png\">"
   ]
  },
  {
   "cell_type": "markdown",
   "metadata": {},
   "source": [
    "この中間層の次元をたくさん持てるということがネットワークの表現力を表しているわけです。\n",
    "途中に非線形要素がなければ、\n",
    "\n",
    "$$\n",
    "\\begin{eqnarray*}\n",
    " h_3 &=& W_3 (W_2(W_1x+b_1)+b_2)+b_3 \\\\\n",
    "     &=& W_3 ( W_2W_1 x + W_2b_1 + b_2) +b_3 \\\\\n",
    "     &=& W_3 W_2 W_1 x + W_3W_2b_1 + W_3b_2 + b_3 \\\\\n",
    "     &=& W x + b\n",
    "\\end{eqnarray*}\n",
    "$$\n",
    "\n",
    "となり、$W_2$などがどんなに大きい次数をもった行列だったとしても実質は\n",
    "$x,W,b$はすべて1次元です。つまり傾きと切片だけを変えられる直線で、すべての入出力にフィットしろ、と\n",
    "いうことになってまあ無理がありますね。\n",
    "\n",
    "最初の方で述べた「非線形要素があればニューラルネットと呼んでいい」というのはこういう理由なわけです。\n",
    "中間層の次数を自由度として持てるのは非線形要素があってこそということになります。"
   ]
  },
  {
   "cell_type": "markdown",
   "metadata": {},
   "source": [
    "## ニューラルネットの実装\n",
    "\n",
    "これをchainerで書き下します。\n",
    "\n",
    "chainerでは、最適化されるべきパラメータを持つ関数をL(リンク)、パラメータなしの関数をF(ファンクション)と呼んで区別しています。このあたりはver1.5あたりから導入された概念だそうで、リンクをファンクションで書いたりしているチュートリアルをよく見かけます。リンクはL.Linear(入力サイズ,出力サイズ)のように大文字始まりで、\n",
    "ファンクションはF.linear(x,W,b)のように小文字始まりで定義されています。古いバージョンでは大文字始まりのファンクションが使われていたようで、F.Linear()とL.Linear()とF.linear()があります。前者２つは等価でパラメータを持った関数、最後のがパラメータを与えるただの関数、です。このあたり理解するまでにだいぶ混乱しました。\n",
    "\n",
    "話がそれました。リンクをまとめたものを渡してチェインと呼ばれるクラスを作ります。\n",
    "Pythonのクラスの書き方に慣れていないと面食らいますが、リンク一覧を定義する\\_\\_init\\_\\_()と\n",
    "出力までの計算グラフを返す関数だけがあれば良いです。ここではロスを\\_\\_cal\\_\\_()で返す\n",
    "ことにします。\\_\\_call\\_\\_()で定義した関数は \n",
    "```\n",
    "m=MyChain()\n",
    "loss=m(x,t)\n",
    "```\n",
    "のように呼べます。\n",
    "\n",
    "パラメータを含む関数は\\_\\_init\\_\\_()に、それ以外は\\_\\_call()\\_\\_や他のメソッドで使うように\n",
    "切り分けられているのがポイントですね。L.Linear()は入力チャネル、出力チャネル、の数だけをパラメータで渡せばいいのでTensorflowよりはるかに記述は簡単です。"
   ]
  },
  {
   "cell_type": "code",
   "execution_count": 4,
   "metadata": {
    "collapsed": false
   },
   "outputs": [],
   "source": [
    "class MyChain(Chain):\n",
    "    def __init__(self):\n",
    "        super(MyChain, self).__init__(\n",
    "             l1=L.Linear(1, 16),\n",
    "             l2=L.Linear(16, 32),\n",
    "             l3=L.Linear(32, 1),\n",
    "        )\n",
    "\n",
    "    def __call__(self,x,t):\n",
    "        # xを入力した際のネットワーク出力と、回答t との差分を返します。\n",
    "        # 今回は最小二乗を使います。\n",
    "        return F.mean_squared_error(self.predict(x),t)\n",
    "\n",
    "    def  predict(self,x):\n",
    "        # xを入力した際のネットワーク出力を返します。\n",
    "        h1 = F.leaky_relu(self.l1(x))\n",
    "        h2 = F.leaky_relu(self.l2(h1))\n",
    "        h3 = F.leaky_relu(self.l3(h2))\n",
    "        return h3\n",
    "\n",
    "    def get(self,x):\n",
    "        # xを実数で入力したら出力を実数で返すという便利関数です。\n",
    "        # numpy.ndarrayとValiableを経由するので少々わかりにくいです。\n",
    "        return self.predict(Variable(np.array([x]).astype(np.float32).reshape(1,1))).data[0][0]"
   ]
  },
  {
   "cell_type": "markdown",
   "metadata": {},
   "source": [
    "特定の戦略にしたがってパラメータを最適化してくれるオプティマイザの設定をします。\n",
    "今回はAdam()というものを使います。"
   ]
  },
  {
   "cell_type": "code",
   "execution_count": 5,
   "metadata": {
    "collapsed": true
   },
   "outputs": [],
   "source": [
    "model = MyChain()\n",
    "optimizer = optimizers.Adam()\n",
    "optimizer.setup(model)"
   ]
  },
  {
   "cell_type": "markdown",
   "metadata": {},
   "source": [
    "## 学習\n",
    "\n",
    "いよいよ学習ループを回します。\n",
    "\n",
    "chainerの作法として、(バッチ軸, データ軸1,(データ軸2),..)という次元構造を持つ np.float32 の配列（テンソル）をVariableクラスに変換したものでやりとりします。Variableクラスから数値の実体を取り出すには dataメソッドを使います。\n",
    "\n",
    "この場合は入力データが1次元なので、\n",
    "  (バッチ軸、データ軸）\n",
    "で良いですが、2次元画像のRGB３チャネルで構成されるデータは\n",
    "  (バッチ軸、色軸、縦軸、横軸）\n",
    "のように渡します。この辺も慣れないとわかりにくいですね。\n",
    "\n",
    "学習のアップデートは\n",
    " \n",
    " 1. 微分の初期化(zerograds)\n",
    " 2. フォワードプロパゲーション（この場合は \\_\\_call()\\_\\_) \n",
    " 3. バックワードプロパゲーション（ネットを逆向きに辿ってパラメータの微分を計算する。backward）\n",
    " 4. オプティマイザのアップデート\n",
    " \n",
    "が一連の流れです。optimizer.update(model) でこの流れを一気にやってくれますが、どうせforwardの途中経過を覗きたくなるので、私は下記のようにすべて書くことが多いです。"
   ]
  },
  {
   "cell_type": "code",
   "execution_count": 6,
   "metadata": {
    "collapsed": false
   },
   "outputs": [
    {
     "data": {
      "image/png": "[encoded data removed]",
      "text/plain": [
       "<matplotlib.figure.Figure at 0x11079c410>"
      ]
     },
     "metadata": {},
     "output_type": "display_data"
    }
   ],
   "source": [
    "losses =[]\n",
    "for i in range(10000):\n",
    "    x,y = get_batch(100)\n",
    "    x_ = Variable(x.astype(np.float32).reshape(100,1))\n",
    "    t_ = Variable(y.astype(np.float32).reshape(100,1))\n",
    "    \n",
    "    model.zerograds()\n",
    "    loss=model(x_,t_)\n",
    "    loss.backward()\n",
    "    optimizer.update()\n",
    "\n",
    "    losses.append(loss.data)\n",
    "\n",
    "plt.plot(losses)\n",
    "plt.yscale('log')\n"
   ]
  },
  {
   "cell_type": "markdown",
   "metadata": {},
   "source": [
    "横軸はループ回数、縦軸はlossをlogプロットしたものです。いい感じに減ってますね。\n",
    "\n",
    "## 結果の確認\n",
    "\n",
    "では、出来上がったモデルの出力を確認してみましょう。0.2を入れたらexp(0.2)に近い値が出るでしょうか。"
   ]
  },
  {
   "cell_type": "code",
   "execution_count": 7,
   "metadata": {
    "collapsed": false
   },
   "outputs": [
    {
     "name": "stdout",
     "output_type": "stream",
     "text": [
      "1.21882\n",
      "1.22140275816\n"
     ]
    }
   ],
   "source": [
    "print model.get(0.2)\n",
    "print np.exp(0.2)"
   ]
  },
  {
   "cell_type": "markdown",
   "metadata": {},
   "source": [
    "良さそうですね。では0から1の範囲でどれ位関数フィットできているでしょうか。"
   ]
  },
  {
   "cell_type": "code",
   "execution_count": 8,
   "metadata": {
    "collapsed": false
   },
   "outputs": [
    {
     "data": {
      "image/png": "[encoded data removed]",
      "text/plain": [
       "<matplotlib.figure.Figure at 0x11079c310>"
      ]
     },
     "metadata": {},
     "output_type": "display_data"
    }
   ],
   "source": [
    "x=np.linspace(0,1,100)\n",
    "plt.plot(x,np.exp(x))\n",
    "plt.hold(True)\n",
    "p=model.predict(Variable(x.astype(np.float32).reshape(100,1))).data\n",
    "_=plt.plot(x, p,\"r\")"
   ]
  },
  {
   "cell_type": "markdown",
   "metadata": {},
   "source": [
    "青が正解で、赤が学習結果です。\n",
    "\n",
    "いい感じです。線形関数だけではこのフィット性能は出ませんよね。\n",
    "ネットの深さ、幅（次元数）、などをいろいろ変えてみると面白いですが、よく言われているように、\n",
    "幅よりも非線形要素と深さが重要、というのが確認できます。"
   ]
  },
  {
   "cell_type": "markdown",
   "metadata": {},
   "source": [
    "## 学習結果モデルの観察\n",
    "\n",
    "さて、結果学習後のモデルはどういう係数でできているのか見てみましょう。\n",
    "たとえば最初のレイヤl1の重み$W$は下記のようにしてアクセスできます。"
   ]
  },
  {
   "cell_type": "code",
   "execution_count": 9,
   "metadata": {
    "collapsed": false
   },
   "outputs": [
    {
     "data": {
      "text/plain": [
       "array([[-0.89440548],\n",
       "       [-0.98046762],\n",
       "       [ 0.69353139],\n",
       "       [ 0.4391343 ],\n",
       "       [-0.68947518],\n",
       "       [-0.25025216],\n",
       "       [ 1.41234398],\n",
       "       [ 0.86891514],\n",
       "       [ 0.22662181],\n",
       "       [ 2.03007483],\n",
       "       [-0.02814336],\n",
       "       [ 2.37609649],\n",
       "       [ 0.61054212],\n",
       "       [-1.34363043],\n",
       "       [-0.82096624],\n",
       "       [ 0.78904825]], dtype=float32)"
      ]
     },
     "execution_count": 9,
     "metadata": {},
     "output_type": "execute_result"
    }
   ],
   "source": [
    "model.l1.W.data"
   ]
  },
  {
   "cell_type": "markdown",
   "metadata": {},
   "source": [
    "これを使って、たとえば下記のようなnumpyで同じ出力を返す関数を作れます。"
   ]
  },
  {
   "cell_type": "code",
   "execution_count": 10,
   "metadata": {
    "collapsed": false
   },
   "outputs": [],
   "source": [
    "def leaky_relu(x):\n",
    "    # 要素ごとの演算にするために一度ndarrayを経由する\n",
    "    m=np.array((x<0))\n",
    "    x=np.array(x)\n",
    "    return np.matrix((x*0.2)*m + x*(~m)) \n",
    "\n",
    "def pseudo_exp(x):\n",
    "    x=np.matrix(x)\n",
    "    W1=np.matrix(model.l1.W.data)\n",
    "    b1 =np.matrix(model.l1.b.data)\n",
    "    W2 =np.matrix(model.l2.W.data)\n",
    "    b2  =np.matrix(model.l2.b.data)\n",
    "    W3 =np.matrix(model.l3.W.data)\n",
    "    b3  =np.matrix(model.l3.b.data)\n",
    "    \n",
    "    h1=leaky_relu(W1*x+b1.T)\n",
    "    h2=leaky_relu(W2*h1+b2.T)\n",
    "    h3=leaky_relu(W3*h2+b3.T)\n",
    "    return h3"
   ]
  },
  {
   "cell_type": "code",
   "execution_count": 11,
   "metadata": {
    "collapsed": false
   },
   "outputs": [
    {
     "name": "stdout",
     "output_type": "stream",
     "text": [
      "[[ 1.21881547]]\n",
      "1.22140275816\n"
     ]
    }
   ],
   "source": [
    "print pseudo_exp(0.2)\n",
    "print np.exp(0.2)"
   ]
  },
  {
   "cell_type": "code",
   "execution_count": 12,
   "metadata": {
    "collapsed": false
   },
   "outputs": [
    {
     "data": {
      "image/png": "[encoded data removed]",
      "text/plain": [
       "<matplotlib.figure.Figure at 0x113760610>"
      ]
     },
     "metadata": {},
     "output_type": "display_data"
    }
   ],
   "source": [
    "x=np.linspace(0,1,100)\n",
    "plt.plot(x,np.exp(x))\n",
    "plt.hold(True)\n",
    "p=pseudo_exp(x.T)\n",
    "_=plt.plot(x, p.T,\"r\")"
   ]
  },
  {
   "cell_type": "markdown",
   "metadata": {
    "collapsed": true
   },
   "source": [
    "model.l1.W.dataなどの係数値をそのまま書き下せば、完全にnumpyだけで学習結果モデルを書けます。\n",
    "CやGoなどの言語へ変換するのも難しくはないでしょう。まあ、chainerやnumpyは利便性の割には十分速いので、速度だけの理由で他の言語に変換する必要はないと思いますが。"
   ]
  },
  {
   "cell_type": "markdown",
   "metadata": {},
   "source": [
    "## 途中経過の観察とセーブ\n",
    "\n",
    "さて、Jupyter上で試行錯誤する際に、途中経過を眺めたくなるでしょう。\n",
    "下記のように書くと途中経過のプロットが更新されます。収束速度にもよりますが、\n",
    "10回に1回表示を更新するようにしています。\n",
    "\n",
    "さらに、セーブ重要です。100回に1回セーブします。"
   ]
  },
  {
   "cell_type": "code",
   "execution_count": 13,
   "metadata": {
    "collapsed": false
   },
   "outputs": [
    {
     "data": {
      "image/png": "[encoded data removed]",
      "text/plain": [
       "<matplotlib.figure.Figure at 0x11030e290>"
      ]
     },
     "metadata": {},
     "output_type": "display_data"
    }
   ],
   "source": [
    "losses =[]\n",
    "from IPython import display\n",
    "\n",
    "model = MyChain()\n",
    "optimizer = optimizers.Adam()\n",
    "optimizer.setup(model)\n",
    "\n",
    "plt.hold(False)\n",
    "\n",
    "for i in range(500):\n",
    "    x,y = get_batch(100)\n",
    "    x_ = Variable(x.astype(np.float32).reshape(100,1))\n",
    "    t_ = Variable(y.astype(np.float32).reshape(100,1))\n",
    "    \n",
    "    model.zerograds()\n",
    "    loss=model(x_,t_)\n",
    "    losses.append(loss.data)\n",
    "    loss.backward()\n",
    "    optimizer.update()\n",
    "\n",
    "    if i%10==0:\n",
    "        plt.plot(losses,\"b\")\n",
    "        plt.yscale('log')\n",
    "        display.clear_output(wait=True)\n",
    "        display.display(plt.gcf())\n",
    "    if i%100==0:\n",
    "        serializers.save_npz('my.model', model)\n",
    "\n",
    "display.clear_output(wait=True)\n"
   ]
  },
  {
   "cell_type": "markdown",
   "metadata": {},
   "source": [
    "セーブしたモデルを使って出力を見てみます。"
   ]
  },
  {
   "cell_type": "code",
   "execution_count": 14,
   "metadata": {
    "collapsed": false
   },
   "outputs": [
    {
     "data": {
      "text/plain": [
       "1.2013909"
      ]
     },
     "execution_count": 14,
     "metadata": {},
     "output_type": "execute_result"
    }
   ],
   "source": [
    "serializers.load_npz('my.model',model)\n",
    "model.get(0.2)"
   ]
  },
  {
   "cell_type": "markdown",
   "metadata": {},
   "source": [
    "## バックプロパゲーションとは\n",
    "\n",
    "さて、もう少し原理的なところを理解したいところです。そもそもバックプロパゲーションでパラメータ最適化される、というのはどういうことでしょうか。\n",
    "\n",
    "簡単のために一度ネットワークを線形関数（$y=Wx+b$で$W,b$がスカラーというただの一次式）に戻して、かつ、オプティマイザをシンプルなSGDに戻します。バッチも1つだけにします。\n",
    "\n",
    "$W,b$ の初期値ですが、chainerのデフォルトは、$W$が乱数、$b$が$0$に選ばれます。ここではわかりやすさのために、$W=0, b=0$を初期値としましょう。"
   ]
  },
  {
   "cell_type": "code",
   "execution_count": 15,
   "metadata": {
    "collapsed": false
   },
   "outputs": [],
   "source": [
    "def get_batch(n):\n",
    "    x=np.random.random(n)\n",
    "    y= np.exp(x)\n",
    "    return x,y\n",
    "\n",
    "class LinearChain(Chain):\n",
    "    def __init__(self):\n",
    "        super(LinearChain, self).__init__(\n",
    "             l1=L.Linear(1, 1,initialW=0.0),\n",
    "        )\n",
    "\n",
    "    def __call__(self,x,t):\n",
    "        return F.mean_squared_error(self.predict(x),t)\n",
    "\n",
    "    def  predict(self,x):\n",
    "        return self.l1(x)\n",
    "\n",
    "    def get(self,x):\n",
    "        return self.predict(Variable(np.array([x]).astype(np.float32).reshape(1,1))).data[0][0]"
   ]
  },
  {
   "cell_type": "markdown",
   "metadata": {},
   "source": [
    "$y=Wx+b$ という線形関数に対して、$E=(y-t)^2$ という自乗誤差を誤差関数として定義しました。\n",
    "\n",
    "この自乗誤差を0に近づけるためにパラメータである$W$と$b$を更新していくわけですが、\n",
    "更新の方向は誤差$E$をそれぞれのパラメータで偏微分したもので定義されます。つまり、\n",
    "\n",
    "$$\n",
    "\\varDelta W = \\frac{\\partial E}{\\partial W},\\quad\n",
    "\\varDelta b =  \\frac{\\partial E}{\\partial b} \n",
    "$$ \n",
    "\n",
    "です。この値をパラメータの微分と呼んでいます。この式を展開すると、\n",
    "\n",
    "$$\n",
    "\\begin{eqnarray}\n",
    "\\varDelta W &=& \\frac{\\partial E}{\\partial y} \\frac{\\partial y}{\\partial W} &=& 2 \\left(y-t \\right) x \\\\\n",
    "\\varDelta b &=& \\frac{\\partial E}{\\partial y} \\frac{\\partial y}{\\partial b} &=& 2 \\left( y-t \\right) \\\\\n",
    "\\end{eqnarray}\n",
    "$$ \n",
    "\n",
    "となります。こう変形することで、パラメータの微分が、誤差の差分である$y-t$ 、既知の入力$x$、で表せたわけです。演算の過程で、下流である誤差の差分から上流の式のパラメータの差分に戻ってくるわけなので、\n",
    "バックプロパゲーションと呼びます。$t,x$ は既知ですが、$y$は、フォワードプロパゲーション、つまり $Wx+b$ を計算しないと得られません。ということで、フォワードプロパゲーションののちにバックプロパゲーション、\n",
    "という演算をすればパラメータの差分が得られるわけですね。\n",
    "\n",
    "こうやって計算された$\\varDelta W, \\varDelta b$ を使って\n",
    "$W,b$ を更新します。\n",
    "SGDは単純に傾きに一定の学習率$\\alpha$をかけたぶんだけパラメータを更新します。つまり\n",
    "$$\n",
    "\\begin{eqnarray}\n",
    "W&\\leftarrow&W-\\alpha \\varDelta W \\\\\n",
    "b&\\leftarrow&b-\\alpha\\varDelta b \\\\\n",
    "\\end{eqnarray}\n",
    "$$ \n",
    "という風に更新されていきます。なお、chainerのデフォルトは$\\alpha=0.01$です。\n",
    "\n",
    "この動きを確認してみましょう。"
   ]
  },
  {
   "cell_type": "code",
   "execution_count": 16,
   "metadata": {
    "collapsed": false
   },
   "outputs": [
    {
     "name": "stdout",
     "output_type": "stream",
     "text": [
      "======  step 0  ======\n",
      "W,b  \t\t\t\t0.00000000, 0.00000000\n",
      "2(y-t)x\t\t\t\t-2.46625805, -3.81655288\n",
      "⊿W,⊿b\t\t\t\t-2.46625805, -3.81655288\n",
      "W-α⊿W,b-α⊿b \t\t0.02466258, 0.03816553\n",
      "======  step 1  ======\n",
      "W,b  \t\t\t\t0.02466258, 0.03816553\n",
      "2(y-t)x\t\t\t\t-4.30129814, -4.78928280\n",
      "⊿W,⊿b\t\t\t\t-4.30129814, -4.78928280\n",
      "W-α⊿W,b-α⊿b \t\t0.06767556, 0.08605836\n",
      "======  step 2  ======\n",
      "W,b  \t\t\t\t0.06767556, 0.08605836\n",
      "2(y-t)x\t\t\t\t-4.06945181, -4.57515717\n",
      "⊿W,⊿b\t\t\t\t-4.06945181, -4.57515717\n",
      "W-α⊿W,b-α⊿b \t\t0.10837008, 0.13180993\n",
      "======  step 3  ======\n",
      "W,b  \t\t\t\t0.10837008, 0.13180992\n",
      "2(y-t)x\t\t\t\t-1.33662236, -2.83760285\n",
      "⊿W,⊿b\t\t\t\t-1.33662236, -2.83760285\n",
      "W-α⊿W,b-α⊿b \t\t0.12173630, 0.16018595\n",
      "======  step 4  ======\n",
      "W,b  \t\t\t\t0.12173630, 0.16018595\n",
      "2(y-t)x\t\t\t\t-0.15072644, -1.83117509\n",
      "⊿W,⊿b\t\t\t\t-0.15072644, -1.83117509\n",
      "W-α⊿W,b-α⊿b \t\t0.12324357, 0.17849770\n"
     ]
    }
   ],
   "source": [
    "model2 = LinearChain()\n",
    "optimizer2 = optimizers.SGD()\n",
    "optimizer2.setup(model2)\n",
    "\n",
    "losses=[]\n",
    "trace=[]\n",
    "\n",
    "def scalar(v):\n",
    "    # Valiableをスカラー値に戻す\n",
    "    return v.data.ravel()[0]\n",
    "\n",
    "for i in range(5):\n",
    "    x,y = get_batch(1)\n",
    "    x_ = Variable(x.astype(np.float32).reshape(1,1))\n",
    "    t_ = Variable(y.astype(np.float32).reshape(1,1))\n",
    "    \n",
    "    model2.zerograds()\n",
    "    loss=model2(x_,t_)\n",
    "    losses.append(loss.data)\n",
    "        \n",
    "    loss.backward(retain_grad=True)\n",
    "\n",
    "    y = scalar(model2.predict(x_))\n",
    "    t=scalar(t_)\n",
    "    x=scalar(x_)\n",
    "    W=scalar(model2.l1.W)\n",
    "    b=scalar(model2.l1.b)\n",
    "    dW=model2.l1.W.grad.ravel()[0]\n",
    "    db=model2.l1.b.grad.ravel()[0]\n",
    "\n",
    "    print \"======  step %d  ======\" % i\n",
    "    print \"W,b  \\t\\t\\t\\t%2.8f, %2.8f\" % (W,b)\n",
    "    print \"2(y-t)x\\t\\t\\t\\t%2.8f, %2.8f\" % (2*((y-t)*x), 2*((y-t)))\n",
    "    print \"⊿W,⊿b\\t\\t\\t\\t%2.8f, %2.8f\" % (dW,db)   #chainerの出すdelta_W, delta_b\n",
    "    print \"W-α⊿W,b-α⊿b \\t\\t%2.8f, %2.8f\" % (W-0.01*dW,b-0.01*db)\n",
    "    optimizer2.update()\n"
   ]
  },
  {
   "cell_type": "markdown",
   "metadata": {},
   "source": [
    "以下２点が確認できます。\n",
    "- $2(y-t)x$と同じ値をchainerのgradが返している\n",
    "- 0.01gradぶんずつ$W,b$ が更新されている"
   ]
  },
  {
   "cell_type": "markdown",
   "metadata": {},
   "source": [
    "さて、更新の結果、最適値に近づいていく様子を見てみましょう。"
   ]
  },
  {
   "cell_type": "code",
   "execution_count": 17,
   "metadata": {
    "collapsed": false,
    "scrolled": true
   },
   "outputs": [
    {
     "data": {
      "image/png": "[encoded data removed]",
      "text/plain": [
       "<matplotlib.figure.Figure at 0x1135e8310>"
      ]
     },
     "metadata": {},
     "output_type": "display_data"
    }
   ],
   "source": [
    "import matplotlib.path as mpath\n",
    "import matplotlib.patches as patches\n",
    "\n",
    "# ロスの等高線を書く\n",
    "psize=40\n",
    "\n",
    "W=np.linspace(-1,3,psize)\n",
    "B=np.linspace(-1,3,psize)\n",
    "Wm, Bm = np.meshgrid(W, B)\n",
    "\n",
    "Z=np.zeros((psize,psize))\n",
    "for w in range(psize):\n",
    "    for b in range(psize):\n",
    "        Z[b,w]=0.0\n",
    "        for x in np.linspace(0,1,10):\n",
    "            Z[b,w] += (W[w]*x+B[b]-np.exp(x))**2\n",
    "\n",
    "plt.contourf(Wm,Bm, Z, 100,vmax=80,vmin=0)\n",
    "plt.colorbar()\n",
    "plt.hold(True)\n",
    "    \n",
    "model2 = LinearChain()\n",
    "optimizer2 = optimizers.SGD()\n",
    "optimizer2.setup(model2)\n",
    "\n",
    "losses=[]\n",
    "verts = [ ]\n",
    "batchsize=20\n",
    "\n",
    "for i in range(1000):\n",
    "\n",
    "    x,y = get_batch(batchsize)\n",
    "    x_ = Variable(x.astype(np.float32).reshape(batchsize,1))\n",
    "    t_ = Variable(y.astype(np.float32).reshape(batchsize,1))\n",
    "\n",
    "    if i%10==0:\n",
    "        w= model2.l1.W.data[0][0]\n",
    "        b = model2.l1.b.data[0]\n",
    "        verts.append((w,b))\n",
    "    \n",
    "    model2.zerograds()\n",
    "    loss=model2(x_,t_)\n",
    "    loss.backward()\n",
    "    #losses.append(loss.data)\n",
    "    optimizer2.update(retain_grad=True)\n",
    "\n",
    "xs, ys = zip(*verts)\n",
    "_=plt.plot(xs, ys, 'o', lw=1, color='white') #, ms=10)"
   ]
  },
  {
   "cell_type": "markdown",
   "metadata": {},
   "source": [
    "横軸が$W$, 縦軸が $b$ です。等高線はロスを示しています。底に向かって進んでいるのがわかります。\n",
    "\n",
    "もちろん、単純化したので最適点でも直線です。最小二乗近直線ですね。似下に示します。"
   ]
  },
  {
   "cell_type": "code",
   "execution_count": 18,
   "metadata": {
    "collapsed": false
   },
   "outputs": [
    {
     "data": {
      "image/png": "[encoded data removed]",
      "text/plain": [
       "<matplotlib.figure.Figure at 0x11326b910>"
      ]
     },
     "metadata": {},
     "output_type": "display_data"
    }
   ],
   "source": [
    "x=np.linspace(0,1,100)\n",
    "plt.plot(x,np.exp(x))\n",
    "plt.hold(True)\n",
    "p=model2.predict(Variable(x.astype(np.float32).reshape(100,1))).data\n",
    "_=plt.plot(x, p,\"r\")"
   ]
  }
 ],
 "metadata": {
  "kernelspec": {
   "display_name": "Python 2",
   "language": "python",
   "name": "python2"
  },
  "language_info": {
   "codemirror_mode": {
    "name": "ipython",
    "version": 2
   },
   "file_extension": ".py",
   "mimetype": "text/x-python",
   "name": "python",
   "nbconvert_exporter": "python",
   "pygments_lexer": "ipython2",
   "version": "2.7.11"
  }
 },
 "nbformat": 4,
 "nbformat_minor": 0
}
