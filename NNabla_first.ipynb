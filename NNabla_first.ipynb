{
 "cells": [
  {
   "cell_type": "markdown",
   "metadata": {},
   "source": [
    "# はじめてのNNabla\n",
    "\n",
    "[関数近似で学ぶ chainer とディープラーニング](http://qiita.com/ashitani/items/1dc0a54da218ec224ad8)\n",
    "の内容をNNablaで実装してみます。"
   ]
  },
  {
   "cell_type": "code",
   "execution_count": 1,
   "metadata": {},
   "outputs": [
    {
     "name": "stderr",
     "output_type": "stream",
     "text": [
      "2017-08-17 03:00:25,539 [nnabla][INFO]: Initializing CPU extension...\n"
     ]
    }
   ],
   "source": [
    "import nnabla as nn\n",
    "\n",
    "import nnabla.functions as F\n",
    "import nnabla.parametric_functions as PF\n",
    "import nnabla.solvers as S\n",
    "from nnabla.monitor import tile_images\n",
    "\n",
    "import numpy as np\n",
    "import matplotlib.pyplot as plt\n",
    "%matplotlib inline"
   ]
  },
  {
   "cell_type": "markdown",
   "metadata": {},
   "source": [
    "データを作成します。"
   ]
  },
  {
   "cell_type": "code",
   "execution_count": 2,
   "metadata": {
    "collapsed": true
   },
   "outputs": [],
   "source": [
    "def get_batch(n):\n",
    "    x = np.random.random(n)\n",
    "    y = np.exp(x)\n",
    "    return x,y"
   ]
  },
  {
   "cell_type": "markdown",
   "metadata": {},
   "source": [
    "グラフを作成します。leaky ReLUがないのでeluで代用します。ミニバッチのサイズがネットワーク側に含まれるようです。\n",
    "\n",
    "ということは、predictionの際に必要な入力が１データであっても100個ぶんの計算をしないといけない？→どうやら、スカラを渡すと100個分のベクタに展開されるらしい。実体もそうなのか、演算はしていないのかは不明。"
   ]
  },
  {
   "cell_type": "code",
   "execution_count": 3,
   "metadata": {},
   "outputs": [],
   "source": [
    "batch_size = 100\n",
    "\n",
    "x = nn.Variable((batch_size,1))\n",
    "\n",
    "with nn.parameter_scope(\"affine1\"):\n",
    "    h1 = F.elu(PF.affine(x, 16))\n",
    "with nn.parameter_scope(\"affine2\"):\n",
    "    h2 = F.elu(PF.affine(h1, 32))\n",
    "with nn.parameter_scope(\"affine3\"):\n",
    "    y = F.elu(PF.affine(h2, 1))"
   ]
  },
  {
   "cell_type": "markdown",
   "metadata": {},
   "source": [
    "ロス関数を定義します。"
   ]
  },
  {
   "cell_type": "code",
   "execution_count": 4,
   "metadata": {
    "collapsed": true
   },
   "outputs": [],
   "source": [
    "t = nn.Variable((batch_size,1))\n",
    "loss = F.mean(F.squared_error(y, t))"
   ]
  },
  {
   "cell_type": "markdown",
   "metadata": {},
   "source": [
    "forward()してみます。Valirableは.dでデータにアクセスできるようです。リードもライトも可能なようです。"
   ]
  },
  {
   "cell_type": "code",
   "execution_count": 5,
   "metadata": {},
   "outputs": [
    {
     "data": {
      "text/plain": [
       "array([-0.05339628], dtype=float32)"
      ]
     },
     "execution_count": 5,
     "metadata": {},
     "output_type": "execute_result"
    }
   ],
   "source": [
    "dat=get_batch(batch_size)\n",
    "x.d=dat[0].reshape((batch_size,1))\n",
    "t.d=dat[1].reshape((batch_size,1))\n",
    "loss.forward()\n",
    "y.d[0]"
   ]
  },
  {
   "cell_type": "markdown",
   "metadata": {},
   "source": [
    "パラメータには下記のようにアクセスできるようです。なるほど。"
   ]
  },
  {
   "cell_type": "code",
   "execution_count": 6,
   "metadata": {},
   "outputs": [
    {
     "name": "stdout",
     "output_type": "stream",
     "text": [
      "[[ 0.53453493  0.07619112 -0.52032226  0.50151753 -0.39791727 -0.36113101\n",
      "  -0.06246556 -0.3155047   0.48113644  0.32035241 -0.36744836  0.18802148\n",
      "  -0.54317921 -0.07468666 -0.12460474  0.53791457]]\n"
     ]
    }
   ],
   "source": [
    "params=nn.get_parameters()\n",
    "print(params[\"affine1/affine/W\"].d)"
   ]
  },
  {
   "cell_type": "markdown",
   "metadata": {},
   "source": [
    "solverの定義と学習です。"
   ]
  },
  {
   "cell_type": "code",
   "execution_count": 7,
   "metadata": {
    "collapsed": true
   },
   "outputs": [],
   "source": [
    "solver = S.Adam()\n",
    "solver.set_parameters(nn.get_parameters())"
   ]
  },
  {
   "cell_type": "code",
   "execution_count": 8,
   "metadata": {},
   "outputs": [
    {
     "name": "stdout",
     "output_type": "stream",
     "text": [
      "0 3.568746328353882\n",
      "1000 0.005967390723526478\n",
      "2000 0.005318371579051018\n",
      "3000 0.003543429309502244\n",
      "4000 0.00024910076172091067\n",
      "5000 0.00010832439875230193\n",
      "6000 7.780154555803165e-05\n",
      "7000 5.546959437197074e-05\n",
      "8000 4.115968113183044e-05\n",
      "9000 3.122492853435688e-05\n"
     ]
    }
   ],
   "source": [
    "losses=[]\n",
    "for i in range(10000):\n",
    "    dat=get_batch(batch_size)\n",
    "    x.d=dat[0].reshape((batch_size,1))\n",
    "    t.d=dat[1].reshape((batch_size,1))\n",
    "    loss.forward()\n",
    "    solver.zero_grad()\n",
    "    loss.backward()\n",
    "    solver.update()\n",
    "    losses.append(loss.d.copy())\n",
    "    if i % 1000 == 0:  # Print for each 10 iterations\n",
    "        print(i, loss.d)"
   ]
  },
  {
   "cell_type": "code",
   "execution_count": 9,
   "metadata": {},
   "outputs": [
    {
     "data": {
      "image/png": "[encoded data removed]",
      "text/plain": [
       "<matplotlib.figure.Figure at 0x7f36d5aae6a0>"
      ]
     },
     "metadata": {},
     "output_type": "display_data"
    }
   ],
   "source": [
    "plt.plot(losses)\n",
    "plt.yscale('log')"
   ]
  },
  {
   "cell_type": "markdown",
   "metadata": {},
   "source": [
    "predictionをしてみましょう。任意のサブグラフに対してforward()ができるのですね。これは直感的です。"
   ]
  },
  {
   "cell_type": "code",
   "execution_count": 10,
   "metadata": {},
   "outputs": [],
   "source": [
    "x.d= 0.2\n",
    "y.forward()"
   ]
  },
  {
   "cell_type": "code",
   "execution_count": 11,
   "metadata": {},
   "outputs": [
    {
     "name": "stdout",
     "output_type": "stream",
     "text": [
      "1.22917\n",
      "1.22140275816\n"
     ]
    }
   ],
   "source": [
    "print(y.d[0][0])\n",
    "print(np.exp(0.2))"
   ]
  },
  {
   "cell_type": "code",
   "execution_count": 12,
   "metadata": {},
   "outputs": [
    {
     "data": {
      "image/png": "[encoded data removed]",
      "text/plain": [
       "<matplotlib.figure.Figure at 0x7f36d35b3978>"
      ]
     },
     "metadata": {},
     "output_type": "display_data"
    }
   ],
   "source": [
    "xi=np.linspace(0,1,100)\n",
    "plt.plot(xi,np.exp(xi))\n",
    "x.d = xi.reshape((100,1))\n",
    "y.forward()\n",
    "_=plt.plot(xi, y.d,\"r\")"
   ]
  },
  {
   "cell_type": "code",
   "execution_count": null,
   "metadata": {
    "collapsed": true
   },
   "outputs": [],
   "source": []
  }
 ],
 "metadata": {
  "kernelspec": {
   "display_name": "Python 3",
   "language": "python",
   "name": "python3"
  },
  "language_info": {
   "codemirror_mode": {
    "name": "ipython",
    "version": 3
   },
   "file_extension": ".py",
   "mimetype": "text/x-python",
   "name": "python",
   "nbconvert_exporter": "python",
   "pygments_lexer": "ipython3",
   "version": "3.6.1"
  }
 },
 "nbformat": 4,
 "nbformat_minor": 2
}
