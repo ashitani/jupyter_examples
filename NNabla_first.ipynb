{
 "cells": [
  {
   "cell_type": "markdown",
   "metadata": {},
   "source": [
    "# はじめてのNNabla\n",
    "\n",
    "[関数近似で学ぶ chainer とディープラーニング](http://qiita.com/ashitani/items/1dc0a54da218ec224ad8)\n",
    "の内容をNNablaで実装してみます。"
   ]
  },
  {
   "cell_type": "code",
   "execution_count": 1,
   "metadata": {},
   "outputs": [
    {
     "name": "stderr",
     "output_type": "stream",
     "text": [
      "2017-08-17 03:56:49,434 [nnabla][INFO]: Initializing CPU extension...\n"
     ]
    }
   ],
   "source": [
    "import nnabla as nn\n",
    "\n",
    "import nnabla.functions as F\n",
    "import nnabla.parametric_functions as PF\n",
    "import nnabla.solvers as S\n",
    "from nnabla.monitor import tile_images\n",
    "\n",
    "import numpy as np\n",
    "import matplotlib.pyplot as plt\n",
    "%matplotlib inline"
   ]
  },
  {
   "cell_type": "markdown",
   "metadata": {},
   "source": [
    "データを作成します。"
   ]
  },
  {
   "cell_type": "code",
   "execution_count": 2,
   "metadata": {
    "collapsed": true
   },
   "outputs": [],
   "source": [
    "def get_batch(n):\n",
    "    x = np.random.random(n)\n",
    "    y = np.exp(x)\n",
    "    return x,y"
   ]
  },
  {
   "cell_type": "markdown",
   "metadata": {},
   "source": [
    "グラフを作成します。leaky ReLUがないのでeluで代用します。\n",
    "\n",
    "ミニバッチのサイズがネットワーク側に含まれるのがちょっと違和感です。predictionの際に必要な入力が１データであっても100個ぶんの計算をしないといけないことになりますが、このページの下のほうに解決策があります。\n",
    "\n",
    "PFについてはscopeを定義してもよいし、name引数を指定してもよいですが、指定しないとaffineの名前空間が被ってエラーになります。affine二個目でエラーになるので一瞬わけがわからなかった。"
   ]
  },
  {
   "cell_type": "code",
   "execution_count": 3,
   "metadata": {
    "collapsed": true
   },
   "outputs": [],
   "source": [
    "batch_size = 100\n",
    "\n",
    "x = nn.Variable((batch_size,1))\n",
    "h1 = F.elu(PF.affine(x, 16,name=\"affine1\"))\n",
    "h2 = F.elu(PF.affine(h1, 32,name=\"affine2\"))\n",
    "y = F.elu(PF.affine(h2, 1,name=\"affine3\"))"
   ]
  },
  {
   "cell_type": "markdown",
   "metadata": {},
   "source": [
    "ロス関数を定義します。"
   ]
  },
  {
   "cell_type": "code",
   "execution_count": 4,
   "metadata": {
    "collapsed": true
   },
   "outputs": [],
   "source": [
    "t = nn.Variable((batch_size,1))\n",
    "loss = F.mean(F.squared_error(y, t))"
   ]
  },
  {
   "cell_type": "markdown",
   "metadata": {},
   "source": [
    "forward()してみます。Valirableは.dでデータにアクセスできるようです。リードもライトも可能なようです。.dataと.dは同じ意味。"
   ]
  },
  {
   "cell_type": "code",
   "execution_count": 5,
   "metadata": {},
   "outputs": [
    {
     "data": {
      "text/plain": [
       "array([-0.16410553], dtype=float32)"
      ]
     },
     "execution_count": 5,
     "metadata": {},
     "output_type": "execute_result"
    }
   ],
   "source": [
    "dat=get_batch(batch_size)\n",
    "x.d=dat[0].reshape((batch_size,1))\n",
    "t.d=dat[1].reshape((batch_size,1))\n",
    "loss.forward()\n",
    "y.d[0]"
   ]
  },
  {
   "cell_type": "markdown",
   "metadata": {},
   "source": [
    "パラメータには下記のようにアクセスできるようです。なるほど。"
   ]
  },
  {
   "cell_type": "code",
   "execution_count": 6,
   "metadata": {},
   "outputs": [
    {
     "name": "stdout",
     "output_type": "stream",
     "text": [
      "[[-0.5213632   0.17095006  0.33979338  0.49241149  0.52247387  0.26255551\n",
      "   0.0197825   0.52184296 -0.09840396 -0.34245464  0.42117459 -0.0777697\n",
      "  -0.18181679  0.3107743  -0.51719356 -0.28285319]]\n"
     ]
    }
   ],
   "source": [
    "params=nn.get_parameters()\n",
    "print(params[\"affine1/affine/W\"].d)"
   ]
  },
  {
   "cell_type": "markdown",
   "metadata": {},
   "source": [
    "solverの定義と学習です。"
   ]
  },
  {
   "cell_type": "code",
   "execution_count": 7,
   "metadata": {
    "collapsed": true
   },
   "outputs": [],
   "source": [
    "solver = S.Adam()\n",
    "solver.set_parameters(nn.get_parameters())"
   ]
  },
  {
   "cell_type": "code",
   "execution_count": 8,
   "metadata": {},
   "outputs": [
    {
     "name": "stdout",
     "output_type": "stream",
     "text": [
      "0 3.022484064102173\n",
      "1000 0.006242163944989443\n",
      "2000 0.005275368690490723\n",
      "3000 0.002720302902162075\n",
      "4000 0.00043357760296203196\n",
      "5000 0.00019374849216546863\n",
      "6000 7.523653766838834e-05\n",
      "7000 6.410327478079125e-05\n",
      "8000 2.9719907615799457e-05\n",
      "9000 2.1921317966189235e-05\n"
     ]
    }
   ],
   "source": [
    "losses=[]\n",
    "for i in range(10000):\n",
    "    dat=get_batch(batch_size)\n",
    "    x.d=dat[0].reshape((batch_size,1))\n",
    "    t.d=dat[1].reshape((batch_size,1))\n",
    "    loss.forward()\n",
    "    solver.zero_grad()\n",
    "    loss.backward()\n",
    "    solver.update()\n",
    "    losses.append(loss.d.copy())\n",
    "    if i % 1000 == 0:  # Print for each 10 iterations\n",
    "        print(i, loss.d)"
   ]
  },
  {
   "cell_type": "code",
   "execution_count": 9,
   "metadata": {},
   "outputs": [
    {
     "data": {
      "image/png": "[encoded data removed]",
      "text/plain": [
       "<matplotlib.figure.Figure at 0x7ffa64e3b668>"
      ]
     },
     "metadata": {},
     "output_type": "display_data"
    }
   ],
   "source": [
    "plt.plot(losses)\n",
    "plt.yscale('log')"
   ]
  },
  {
   "cell_type": "markdown",
   "metadata": {},
   "source": [
    "predictionをしてみましょう。任意のサブグラフに対してforward()ができるのですね。これは直感的です。"
   ]
  },
  {
   "cell_type": "code",
   "execution_count": 10,
   "metadata": {
    "collapsed": true
   },
   "outputs": [],
   "source": [
    "x.d= 0.2\n",
    "y.forward()"
   ]
  },
  {
   "cell_type": "code",
   "execution_count": 11,
   "metadata": {},
   "outputs": [
    {
     "name": "stdout",
     "output_type": "stream",
     "text": [
      "1.22677\n",
      "1.22140275816\n"
     ]
    }
   ],
   "source": [
    "print(y.d[0][0])\n",
    "print(np.exp(0.2))"
   ]
  },
  {
   "cell_type": "code",
   "execution_count": 12,
   "metadata": {},
   "outputs": [
    {
     "data": {
      "image/png": "[encoded data removed]",
      "text/plain": [
       "<matplotlib.figure.Figure at 0x7ffa628e31d0>"
      ]
     },
     "metadata": {},
     "output_type": "display_data"
    }
   ],
   "source": [
    "xi=np.linspace(0,1,100)\n",
    "plt.plot(xi,np.exp(xi))\n",
    "x.d = xi.reshape((100,1))\n",
    "y.forward()\n",
    "_=plt.plot(xi, y.d,\"r\")"
   ]
  },
  {
   "cell_type": "markdown",
   "metadata": {},
   "source": [
    "save/loadはこれでいいのかな。すべてのparameterを保存するようですね。"
   ]
  },
  {
   "cell_type": "code",
   "execution_count": 13,
   "metadata": {},
   "outputs": [
    {
     "name": "stderr",
     "output_type": "stream",
     "text": [
      "2017-08-17 03:57:04,508 [nnabla][INFO]: Parameter save (hdf5): param_nnabla_first.h5\n"
     ]
    }
   ],
   "source": [
    "nn.save_parameters(\"param_nnabla_first.h5\")"
   ]
  },
  {
   "cell_type": "markdown",
   "metadata": {},
   "source": [
    "下記スクリプトでパラメータを読み出して実行できました。prediction用にバッチサイズを1にしても、パラメータの数は変わらないのでload_parameters()の後にforward()できるようですね。"
   ]
  },
  {
   "cell_type": "markdown",
   "metadata": {},
   "source": [
    "```py\n",
    "import nnabla as nn\n",
    "import nnabla.functions as F\n",
    "import nnabla.parametric_functions as PF\n",
    "\n",
    "import numpy as np\n",
    "import matplotlib.pyplot as plt\n",
    "\n",
    "batch_size = 1\n",
    "\n",
    "x = nn.Variable((batch_size,1))\n",
    "h1 = F.elu(PF.affine(x, 16,name=\"affine1\"))\n",
    "h2 = F.elu(PF.affine(h1, 32,name=\"affine2\"))\n",
    "y = F.elu(PF.affine(h2, 1,name=\"affine3\"))\n",
    "\n",
    "nn.load_parameters(\"param_nnabla_first.h5\")\n",
    "\n",
    "xi=np.linspace(0,1,100)\n",
    "plt.plot(xi,np.exp(xi))\n",
    "\n",
    "ys=[]\n",
    "for i in range(100):\n",
    "    x.d = xi[i]\n",
    "    y.forward()\n",
    "    ys.append(y.d.copy())\n",
    "_=plt.plot(xi, np.array(ys).reshape((100,)),\"r\")\n",
    "\n",
    "plt.show()\n",
    "```"
   ]
  },
  {
   "cell_type": "code",
   "execution_count": null,
   "metadata": {
    "collapsed": true
   },
   "outputs": [],
   "source": []
  }
 ],
 "metadata": {
  "kernelspec": {
   "display_name": "Python 3",
   "language": "python",
   "name": "python3"
  },
  "language_info": {
   "codemirror_mode": {
    "name": "ipython",
    "version": 3
   },
   "file_extension": ".py",
   "mimetype": "text/x-python",
   "name": "python",
   "nbconvert_exporter": "python",
   "pygments_lexer": "ipython3",
   "version": "3.6.1"
  }
 },
 "nbformat": 4,
 "nbformat_minor": 2
}
