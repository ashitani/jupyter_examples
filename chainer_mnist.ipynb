{
 "cells": [
  {
   "cell_type": "code",
   "execution_count": 1,
   "metadata": {
    "collapsed": false
   },
   "outputs": [
    {
     "name": "stdout",
     "output_type": "stream",
     "text": [
      "Extracting MNIST_data/train-images-idx3-ubyte.gz\n",
      "Extracting MNIST_data/train-labels-idx1-ubyte.gz\n",
      "Extracting MNIST_data/t10k-images-idx3-ubyte.gz\n",
      "Extracting MNIST_data/t10k-labels-idx1-ubyte.gz\n"
     ]
    }
   ],
   "source": [
    "from tensorflow.examples.tutorials.mnist import input_data\n",
    "mnist = input_data.read_data_sets('MNIST_data', one_hot=True)"
   ]
  },
  {
   "cell_type": "code",
   "execution_count": 2,
   "metadata": {
    "collapsed": true
   },
   "outputs": [],
   "source": [
    "import numpy as np\n",
    "import chainer\n",
    "from chainer import cuda, Function, gradient_check, Variable, optimizers, serializers, utils\n",
    "from chainer import Link, Chain, ChainList\n",
    "import chainer.functions as F\n",
    "import chainer.links as L\n",
    "\n",
    "from matplotlib import pyplot as plt\n",
    "%matplotlib inline"
   ]
  },
  {
   "cell_type": "code",
   "execution_count": 3,
   "metadata": {
    "collapsed": true
   },
   "outputs": [],
   "source": [
    "MAX_DATA=55000\n",
    "def get_batch(n):\n",
    "    ni=np.random.randint(0,MAX_DATA,n)\n",
    "    x = mnist.train.images[ni] \n",
    "    y = mnist.train.labels[ni]\n",
    "    return x,y"
   ]
  },
  {
   "cell_type": "code",
   "execution_count": 4,
   "metadata": {
    "collapsed": false
   },
   "outputs": [],
   "source": [
    "class MyChain(Chain):\n",
    "    def __init__(self):\n",
    "        super(MyChain, self).__init__(\n",
    "            c1=L.Convolution2D(1, 16, ksize=3, pad=1,),\n",
    "            c2=L.Convolution2D(16, 64, ksize=3, pad=1),\n",
    "            c3=L.Convolution2D(64, 256, ksize=3, pad=1),\n",
    "            l1 = L.Linear(4*4*256,512),\n",
    "            l2 = L.Linear(512,10),\n",
    "        )\n",
    "        \n",
    "    def __call__(self,x,t):\n",
    "        return F.softmax_cross_entropy(self.predict(x),t)\n",
    "\n",
    "    def  predict(self,x):\n",
    "        h1 = F.max_pooling_2d( F.relu(self.c1(x)),2)\n",
    "        h2 = F.max_pooling_2d(F.relu(self.c2(h1)),2)\n",
    "        h3 = F.max_pooling_2d(F.relu(self.c3(h2)),2)\n",
    "        h4  = self.l1(h3)\n",
    "        h5  = self.l2(h4)\n",
    "        return h5\n"
   ]
  },
  {
   "cell_type": "code",
   "execution_count": null,
   "metadata": {
    "collapsed": false
   },
   "outputs": [],
   "source": [
    "model = MyChain()\n",
    "#optimizer = optimizers.Adam()\n",
    "optimizer = optimizers.SGD()\n",
    "\n",
    "optimizer.setup(model)"
   ]
  },
  {
   "cell_type": "code",
   "execution_count": null,
   "metadata": {
    "collapsed": false,
    "scrolled": true
   },
   "outputs": [
    {
     "name": "stdout",
     "output_type": "stream",
     "text": [
      "2.31739711761\n",
      "2.27834939957\n",
      "2.31021261215\n",
      "2.28761529922\n",
      "2.2894051075\n",
      "2.26229310036\n",
      "2.25882935524\n",
      "2.2633497715\n",
      "2.25219273567\n",
      "2.25415825844\n",
      "2.20500969887\n",
      "2.20990300179\n",
      "2.2284321785\n",
      "2.22232174873\n",
      "2.21196007729\n",
      "2.1897790432\n",
      "2.17366456985\n",
      "2.17402124405\n",
      "2.17252516747\n",
      "2.17273163795\n",
      "2.1409778595\n",
      "2.15867042542\n",
      "2.15322709084\n",
      "2.13625764847\n",
      "2.12200307846\n",
      "2.11422133446\n",
      "2.0901787281\n",
      "2.12852072716\n",
      "2.07420992851\n",
      "2.09447264671\n",
      "2.05329442024\n",
      "2.10468769073\n",
      "2.05862760544\n",
      "2.07137489319\n",
      "2.07139253616\n",
      "2.02251911163\n",
      "2.0126042366\n",
      "2.01789617538\n",
      "2.01789474487\n"
     ]
    }
   ],
   "source": [
    "losses =[]\n",
    "batch_num=100\n",
    "for i in range(2000):\n",
    "    x,y = get_batch(batch_num)\n",
    "    x_ = Variable(x.astype(np.float32).reshape((batch_num,1,28,28)))\n",
    "    t_ = Variable(np.argmax(y,axis=1).astype(np.int32).reshape((batch_num)))\n",
    "    \n",
    "    model.zerograds()\n",
    "    loss=model(x_,t_)\n",
    "    loss.backward()\n",
    "    optimizer.update()\n",
    "\n",
    "    #losses.append(loss.data)\n",
    "    print loss.data\n",
    "\n",
    "plt.plot(losses)\n",
    "plt.yscale('log')"
   ]
  }
 ],
 "metadata": {
  "kernelspec": {
   "display_name": "Python 2",
   "language": "python",
   "name": "python2"
  },
  "language_info": {
   "codemirror_mode": {
    "name": "ipython",
    "version": 2
   },
   "file_extension": ".py",
   "mimetype": "text/x-python",
   "name": "python",
   "nbconvert_exporter": "python",
   "pygments_lexer": "ipython2",
   "version": "2.7.11"
  }
 },
 "nbformat": 4,
 "nbformat_minor": 0
}
