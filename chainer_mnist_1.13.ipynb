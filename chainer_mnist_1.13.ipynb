{
 "cells": [
  {
   "cell_type": "code",
   "execution_count": 1,
   "metadata": {
    "collapsed": false
   },
   "outputs": [],
   "source": [
    "import numpy as np\n",
    "import chainer\n",
    "from chainer import cuda, Function, gradient_check, Variable, optimizers, serializers, utils\n",
    "from chainer import Link, Chain, ChainList\n",
    "import chainer.functions as F\n",
    "import chainer.links as L\n",
    "from chainer import training\n",
    "from chainer.training import extensions\n",
    "from progress_bar_notebook import ProgressBarNotebook # 自作のJupyter用extension\n",
    "\n",
    "from matplotlib import pyplot as plt\n",
    "%matplotlib inline"
   ]
  },
  {
   "cell_type": "code",
   "execution_count": 2,
   "metadata": {
    "collapsed": true
   },
   "outputs": [],
   "source": [
    "#データセット例をダウンロードできるようになった。これはいつ　のバージョンからかなあ。\n",
    "train, test = chainer.datasets.get_mnist()"
   ]
  },
  {
   "cell_type": "code",
   "execution_count": 3,
   "metadata": {
    "collapsed": false
   },
   "outputs": [],
   "source": [
    "#1.13から入力次元は省略できるようになった。最初に入力されたテストデータで判断するらしい。\n",
    "\n",
    "class MyChain(Chain):\n",
    "    def __init__(self):\n",
    "        super(MyChain, self).__init__(\n",
    "            c1=L.Convolution2D(None,16, ksize=3, pad=1,), \n",
    "            c2=L.Convolution2D(None,64, ksize=3, pad=1),\n",
    "            c3=L.Convolution2D(None,256, ksize=3, pad=1),\n",
    "            l1 = L.Linear(4*4*256,512),# 入力をNoneにすると2D to 1D を明示できない\n",
    "            l2 = L.Linear(None,10),\n",
    "        )\n",
    "        \n",
    "    def __call__(self,x,t):\n",
    "        return F.softmax_cross_entropy(self.predict(x),t)\n",
    "\n",
    "    def  predict(self,x):\n",
    "        h0 = F.reshape(x,(-1,1,28,28)) # 本来はデータセットを二次元にすべきではあるが、ズボラ。\n",
    "        h1 = F.max_pooling_2d( F.relu(self.c1(h0)),2)\n",
    "        h2 = F.max_pooling_2d(F.relu(self.c2(h1)),2)\n",
    "        h3 = F.max_pooling_2d(F.relu(self.c3(h2)),2)\n",
    "        h4  = self.l1(h3)\n",
    "        h5  = self.l2(h4)\n",
    "        return h5"
   ]
  },
  {
   "cell_type": "code",
   "execution_count": 4,
   "metadata": {
    "collapsed": false
   },
   "outputs": [],
   "source": [
    "model = MyChain()\n",
    "optimizer = optimizers.Adam()\n",
    "optimizer.setup(model)"
   ]
  }
 ],
 "metadata": {
  "kernelspec": {
   "display_name": "Python 2",
   "language": "python",
   "name": "python2"
  },
  "language_info": {
   "codemirror_mode": {
    "name": "ipython",
    "version": 2
   },
   "file_extension": ".py",
   "mimetype": "text/x-python",
   "name": "python",
   "nbconvert_exporter": "python",
   "pygments_lexer": "ipython2",
   "version": "2.7.11"
  },
  "widgets": {
   "state": {
    "38d7d400925e40a4be687a3c2899cfb4": {
     "views": [
      {
       "cell_index": 4
      }
     ]
    }
   },
   "version": "1.2.0"
  }
 },
 "nbformat": 4,
 "nbformat_minor": 1
}
