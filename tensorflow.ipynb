{
 "cells": [
  {
   "cell_type": "markdown",
   "metadata": {},
   "source": [
    "[chainer](http://nbviewer.jupyter.org/github/ashitani/jupyter_examples/blob/master/chainer.ipynb)と同じことをTensorFlowでやってみます。"
   ]
  },
  {
   "cell_type": "code",
   "execution_count": 1,
   "metadata": {
    "collapsed": true
   },
   "outputs": [],
   "source": [
    "import tensorflow as tf\n",
    "import numpy as np\n",
    "from IPython import display"
   ]
  },
  {
   "cell_type": "code",
   "execution_count": 2,
   "metadata": {
    "collapsed": true
   },
   "outputs": [],
   "source": [
    "from matplotlib import pyplot as plt\n",
    "%matplotlib inline"
   ]
  },
  {
   "cell_type": "code",
   "execution_count": 3,
   "metadata": {
    "collapsed": true
   },
   "outputs": [],
   "source": [
    "def get_batch(n):\n",
    "    x = np.random.random(n)\n",
    "    y = np.exp(x)\n",
    "    return x,y"
   ]
  },
  {
   "cell_type": "markdown",
   "metadata": {},
   "source": [
    "leaky_reluは標準装備じゃないのですが[こちら](https://groups.google.com/a/tensorflow.org/forum/#!topic/discuss/V6aeBw4nlaE)にエレガントな解がありました。"
   ]
  },
  {
   "cell_type": "code",
   "execution_count": 4,
   "metadata": {
    "collapsed": true
   },
   "outputs": [],
   "source": [
    "def leaky_relu(x,alpha=0.2):\n",
    "    return tf.maximum(alpha*x,x)"
   ]
  },
  {
   "cell_type": "markdown",
   "metadata": {},
   "source": [
    "chainerと呼び名が違うので注意です。最適化されるパラメータをVariableで定義します。\n",
    "placeholderは値の入れる場所、というような意味のようです。問題と正解を入れます。\n",
    "自乗誤差は[L2ノルム誤差](https://www.tensorflow.org/versions/r0.7/api_docs/python/nn.html#l2_loss)を使いました。\n",
    "l2_loss(t)は$ \\frac{1}{2}\\sum t^2$とのことです。\n",
    "\n",
    "chainerと違い、重みやバイアスを全部定義するのでちょっとコードが長くなります。"
   ]
  },
  {
   "cell_type": "code",
   "execution_count": 5,
   "metadata": {
    "collapsed": false
   },
   "outputs": [],
   "source": [
    "sess = tf.InteractiveSession()\n",
    "\n",
    "x_ = tf.placeholder(tf.float32, shape=[None, 1])\n",
    "t_ = tf.placeholder(tf.float32, shape=[None, 1])\n",
    "\n",
    "W1 = tf.Variable(tf.random_normal([1,16]))\n",
    "b1  = tf.Variable(tf.zeros([16]))\n",
    "\n",
    "W2 =  tf.Variable(tf.random_normal([16,32]))\n",
    "b2  = tf.Variable(tf.zeros([32]))\n",
    "\n",
    "W3 =  tf.Variable(tf.random_normal([32,1]))\n",
    "b3  =  tf.Variable(tf.zeros([1]))\n",
    "\n",
    "sess.run(tf.initialize_all_variables())\n",
    "\n",
    "h1 = leaky_relu(tf.matmul(x_,W1)+b1)\n",
    "h2 = leaky_relu(tf.matmul(h1,W2)+b2)\n",
    "y   = leaky_relu(tf.matmul(h2,W3)+b3)\n",
    "e   =tf.nn.l2_loss(y-t_)"
   ]
  },
  {
   "cell_type": "markdown",
   "metadata": {},
   "source": [
    "最適化はchainerとほとんど同じコードですが、値を引き出すには eval() メソッドにfeed_dictというものを渡します。プレイスホルダ名に対して値を示すHashを渡します。ちょっと読みづらい。。"
   ]
  },
  {
   "cell_type": "code",
   "execution_count": 6,
   "metadata": {
    "collapsed": false
   },
   "outputs": [
    {
     "data": {
      "image/png": "[encoded data removed]",
      "text/plain": [
       "<matplotlib.figure.Figure at 0x116fae810>"
      ]
     },
     "metadata": {},
     "output_type": "display_data"
    }
   ],
   "source": [
    "train_step = tf.train.AdamOptimizer().minimize(e)\n",
    "\n",
    "losses =[]\n",
    "sess.run(tf.initialize_all_variables())\n",
    "\n",
    "batch_size=100\n",
    "for i in range(10000):\n",
    "    x,t = get_batch(batch_size)\n",
    "\n",
    "    x = x.astype(np.float32).reshape(batch_size,1)\n",
    "    t = t.astype(np.float32).reshape(batch_size,1)\n",
    "    loss= e.eval(feed_dict={x_: x, t_:t})\n",
    "    losses.append(loss)\n",
    "    train_step.run(feed_dict={x_: x, t_:t})\n",
    "    if i%100==0:\n",
    "        plt.plot(losses,\"b\")\n",
    "        plt.yscale('log')\n",
    "        display.clear_output(wait=True)\n",
    "        display.display(plt.gcf())    \n",
    "\n",
    "display.clear_output(wait=True)"
   ]
  },
  {
   "cell_type": "markdown",
   "metadata": {},
   "source": [
    "全般にロスがでかいんだけどなんだろう。初期値がしょぼいのかな。"
   ]
  },
  {
   "cell_type": "code",
   "execution_count": 7,
   "metadata": {
    "collapsed": false
   },
   "outputs": [
    {
     "data": {
      "image/png": "[encoded data removed]",
      "text/plain": [
       "<matplotlib.figure.Figure at 0x1143cc390>"
      ]
     },
     "metadata": {},
     "output_type": "display_data"
    }
   ],
   "source": [
    "x=np.linspace(0,1,100)\n",
    "plt.plot(x,np.exp(x))\n",
    "plt.hold(True)\n",
    "p=y.eval(feed_dict={x_: (x.astype(np.float32).reshape(100,1))})\n",
    "_=plt.plot(x, p,\"r\")"
   ]
  },
  {
   "cell_type": "markdown",
   "metadata": {},
   "source": []
  }
 ],
 "metadata": {
  "kernelspec": {
   "display_name": "Python 2",
   "language": "python",
   "name": "python2"
  },
  "language_info": {
   "codemirror_mode": {
    "name": "ipython",
    "version": 2
   },
   "file_extension": ".py",
   "mimetype": "text/x-python",
   "name": "python",
   "nbconvert_exporter": "python",
   "pygments_lexer": "ipython2",
   "version": "2.7.11"
  }
 },
 "nbformat": 4,
 "nbformat_minor": 0
}
